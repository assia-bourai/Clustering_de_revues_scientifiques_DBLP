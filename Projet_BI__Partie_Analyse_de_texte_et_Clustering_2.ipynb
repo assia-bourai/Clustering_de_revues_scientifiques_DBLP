{
 "cells": [
  {
   "cell_type": "markdown",
   "metadata": {
    "id": "0exW-odl8uUT"
   },
   "source": [
    "**Notebook dédié à:** \n",
    "\n",
    "\n",
    "* la contruction de la matrice Document-Entités. \n",
    "* l'entrainement du Kmeans et spherical kmeans  sur cette matrice."
   ]
  },
  {
   "cell_type": "markdown",
   "metadata": {
    "id": "-40Ev4OK9LI9"
   },
   "source": [
    "# Importer les librairies "
   ]
  },
  {
   "cell_type": "code",
   "execution_count": 169,
   "metadata": {
    "id": "Kq3AoZBGfh8w"
   },
   "outputs": [],
   "source": [
    "import pandas as pd\n",
    "import numpy as np\n",
    "import matplotlib.pyplot as plt\n",
    "import seaborn as sns\n",
    "%matplotlib inline\n",
    "\n",
    "import nltk\n",
    "from nltk.corpus import stopwords\n",
    "from nltk.stem import WordNetLemmatizer\n",
    "\n",
    "from sklearn import metrics\n",
    "from sklearn.cluster import KMeans\n",
    "from sklearn.metrics.pairwise import cosine_similarity\n",
    "from sklearn.feature_extraction.text import CountVectorizer\n",
    "from sklearn.feature_extraction.text import TfidfVectorizer\n",
    "\n",
    "\n",
    "from scipy import  sparse\n",
    "from wordcloud import WordCloud \n",
    "import re\n"
   ]
  },
  {
   "cell_type": "code",
   "execution_count": 90,
   "metadata": {
    "colab": {
     "base_uri": "https://localhost:8080/"
    },
    "id": "tDnADMiNjJ6X",
    "outputId": "10174f7c-4a8a-494c-f0d3-28f5dfef38e0"
   },
   "outputs": [
    {
     "name": "stdout",
     "output_type": "stream",
     "text": [
      "Requirement already satisfied: spacy==3.1.3 in /usr/local/lib/python3.7/dist-packages (3.1.3)\n",
      "Requirement already satisfied: typing-extensions<4.0.0.0,>=3.7.4 in /usr/local/lib/python3.7/dist-packages (from spacy==3.1.3) (3.10.0.2)\n",
      "Requirement already satisfied: pathy>=0.3.5 in /usr/local/lib/python3.7/dist-packages (from spacy==3.1.3) (0.6.1)\n",
      "Requirement already satisfied: preshed<3.1.0,>=3.0.2 in /usr/local/lib/python3.7/dist-packages (from spacy==3.1.3) (3.0.6)\n",
      "Requirement already satisfied: murmurhash<1.1.0,>=0.28.0 in /usr/local/lib/python3.7/dist-packages (from spacy==3.1.3) (1.0.6)\n",
      "Requirement already satisfied: thinc<8.1.0,>=8.0.9 in /usr/local/lib/python3.7/dist-packages (from spacy==3.1.3) (8.0.13)\n",
      "Requirement already satisfied: cymem<2.1.0,>=2.0.2 in /usr/local/lib/python3.7/dist-packages (from spacy==3.1.3) (2.0.6)\n",
      "Requirement already satisfied: requests<3.0.0,>=2.13.0 in /usr/local/lib/python3.7/dist-packages (from spacy==3.1.3) (2.23.0)\n",
      "Requirement already satisfied: wasabi<1.1.0,>=0.8.1 in /usr/local/lib/python3.7/dist-packages (from spacy==3.1.3) (0.8.2)\n",
      "Requirement already satisfied: typer<0.5.0,>=0.3.0 in /usr/local/lib/python3.7/dist-packages (from spacy==3.1.3) (0.4.0)\n",
      "Requirement already satisfied: spacy-legacy<3.1.0,>=3.0.8 in /usr/local/lib/python3.7/dist-packages (from spacy==3.1.3) (3.0.8)\n",
      "Requirement already satisfied: blis<0.8.0,>=0.4.0 in /usr/local/lib/python3.7/dist-packages (from spacy==3.1.3) (0.4.1)\n",
      "Requirement already satisfied: numpy>=1.15.0 in /usr/local/lib/python3.7/dist-packages (from spacy==3.1.3) (1.19.5)\n",
      "Requirement already satisfied: tqdm<5.0.0,>=4.38.0 in /usr/local/lib/python3.7/dist-packages (from spacy==3.1.3) (4.62.3)\n",
      "Requirement already satisfied: setuptools in /usr/local/lib/python3.7/dist-packages (from spacy==3.1.3) (57.4.0)\n",
      "Requirement already satisfied: catalogue<2.1.0,>=2.0.6 in /usr/local/lib/python3.7/dist-packages (from spacy==3.1.3) (2.0.6)\n",
      "Requirement already satisfied: packaging>=20.0 in /usr/local/lib/python3.7/dist-packages (from spacy==3.1.3) (21.2)\n",
      "Requirement already satisfied: srsly<3.0.0,>=2.4.1 in /usr/local/lib/python3.7/dist-packages (from spacy==3.1.3) (2.4.2)\n",
      "Requirement already satisfied: jinja2 in /usr/local/lib/python3.7/dist-packages (from spacy==3.1.3) (2.11.3)\n",
      "Requirement already satisfied: pydantic!=1.8,!=1.8.1,<1.9.0,>=1.7.4 in /usr/local/lib/python3.7/dist-packages (from spacy==3.1.3) (1.8.2)\n",
      "Requirement already satisfied: zipp>=0.5 in /usr/local/lib/python3.7/dist-packages (from catalogue<2.1.0,>=2.0.6->spacy==3.1.3) (3.6.0)\n",
      "Requirement already satisfied: pyparsing<3,>=2.0.2 in /usr/local/lib/python3.7/dist-packages (from packaging>=20.0->spacy==3.1.3) (2.4.7)\n",
      "Requirement already satisfied: smart-open<6.0.0,>=5.0.0 in /usr/local/lib/python3.7/dist-packages (from pathy>=0.3.5->spacy==3.1.3) (5.2.1)\n",
      "Requirement already satisfied: chardet<4,>=3.0.2 in /usr/local/lib/python3.7/dist-packages (from requests<3.0.0,>=2.13.0->spacy==3.1.3) (3.0.4)\n",
      "Requirement already satisfied: urllib3!=1.25.0,!=1.25.1,<1.26,>=1.21.1 in /usr/local/lib/python3.7/dist-packages (from requests<3.0.0,>=2.13.0->spacy==3.1.3) (1.24.3)\n",
      "Requirement already satisfied: idna<3,>=2.5 in /usr/local/lib/python3.7/dist-packages (from requests<3.0.0,>=2.13.0->spacy==3.1.3) (2.10)\n",
      "Requirement already satisfied: certifi>=2017.4.17 in /usr/local/lib/python3.7/dist-packages (from requests<3.0.0,>=2.13.0->spacy==3.1.3) (2021.10.8)\n",
      "Requirement already satisfied: click<9.0.0,>=7.1.1 in /usr/local/lib/python3.7/dist-packages (from typer<0.5.0,>=0.3.0->spacy==3.1.3) (7.1.2)\n",
      "Requirement already satisfied: MarkupSafe>=0.23 in /usr/local/lib/python3.7/dist-packages (from jinja2->spacy==3.1.3) (2.0.1)\n"
     ]
    }
   ],
   "source": [
    "pip install spacy==3.1.3"
   ]
  },
  {
   "cell_type": "code",
   "execution_count": 91,
   "metadata": {
    "colab": {
     "base_uri": "https://localhost:8080/"
    },
    "id": "oxJU1GtHjJu0",
    "outputId": "cb62e568-9af2-45c6-82fc-bd1437669202"
   },
   "outputs": [
    {
     "name": "stdout",
     "output_type": "stream",
     "text": [
      "Collecting en-core-web-sm==3.1.0\n",
      "  Downloading https://github.com/explosion/spacy-models/releases/download/en_core_web_sm-3.1.0/en_core_web_sm-3.1.0-py3-none-any.whl (13.6 MB)\n",
      "\u001b[K     |████████████████████████████████| 13.6 MB 71 kB/s \n",
      "\u001b[?25hRequirement already satisfied: spacy<3.2.0,>=3.1.0 in /usr/local/lib/python3.7/dist-packages (from en-core-web-sm==3.1.0) (3.1.3)\n",
      "Requirement already satisfied: numpy>=1.15.0 in /usr/local/lib/python3.7/dist-packages (from spacy<3.2.0,>=3.1.0->en-core-web-sm==3.1.0) (1.19.5)\n",
      "Requirement already satisfied: murmurhash<1.1.0,>=0.28.0 in /usr/local/lib/python3.7/dist-packages (from spacy<3.2.0,>=3.1.0->en-core-web-sm==3.1.0) (1.0.6)\n",
      "Requirement already satisfied: requests<3.0.0,>=2.13.0 in /usr/local/lib/python3.7/dist-packages (from spacy<3.2.0,>=3.1.0->en-core-web-sm==3.1.0) (2.23.0)\n",
      "Requirement already satisfied: wasabi<1.1.0,>=0.8.1 in /usr/local/lib/python3.7/dist-packages (from spacy<3.2.0,>=3.1.0->en-core-web-sm==3.1.0) (0.8.2)\n",
      "Requirement already satisfied: pydantic!=1.8,!=1.8.1,<1.9.0,>=1.7.4 in /usr/local/lib/python3.7/dist-packages (from spacy<3.2.0,>=3.1.0->en-core-web-sm==3.1.0) (1.8.2)\n",
      "Requirement already satisfied: packaging>=20.0 in /usr/local/lib/python3.7/dist-packages (from spacy<3.2.0,>=3.1.0->en-core-web-sm==3.1.0) (21.2)\n",
      "Requirement already satisfied: cymem<2.1.0,>=2.0.2 in /usr/local/lib/python3.7/dist-packages (from spacy<3.2.0,>=3.1.0->en-core-web-sm==3.1.0) (2.0.6)\n",
      "Requirement already satisfied: srsly<3.0.0,>=2.4.1 in /usr/local/lib/python3.7/dist-packages (from spacy<3.2.0,>=3.1.0->en-core-web-sm==3.1.0) (2.4.2)\n",
      "Requirement already satisfied: pathy>=0.3.5 in /usr/local/lib/python3.7/dist-packages (from spacy<3.2.0,>=3.1.0->en-core-web-sm==3.1.0) (0.6.1)\n",
      "Requirement already satisfied: setuptools in /usr/local/lib/python3.7/dist-packages (from spacy<3.2.0,>=3.1.0->en-core-web-sm==3.1.0) (57.4.0)\n",
      "Requirement already satisfied: blis<0.8.0,>=0.4.0 in /usr/local/lib/python3.7/dist-packages (from spacy<3.2.0,>=3.1.0->en-core-web-sm==3.1.0) (0.4.1)\n",
      "Requirement already satisfied: typing-extensions<4.0.0.0,>=3.7.4 in /usr/local/lib/python3.7/dist-packages (from spacy<3.2.0,>=3.1.0->en-core-web-sm==3.1.0) (3.10.0.2)\n",
      "Requirement already satisfied: preshed<3.1.0,>=3.0.2 in /usr/local/lib/python3.7/dist-packages (from spacy<3.2.0,>=3.1.0->en-core-web-sm==3.1.0) (3.0.6)\n",
      "Requirement already satisfied: jinja2 in /usr/local/lib/python3.7/dist-packages (from spacy<3.2.0,>=3.1.0->en-core-web-sm==3.1.0) (2.11.3)\n",
      "Requirement already satisfied: spacy-legacy<3.1.0,>=3.0.8 in /usr/local/lib/python3.7/dist-packages (from spacy<3.2.0,>=3.1.0->en-core-web-sm==3.1.0) (3.0.8)\n",
      "Requirement already satisfied: catalogue<2.1.0,>=2.0.6 in /usr/local/lib/python3.7/dist-packages (from spacy<3.2.0,>=3.1.0->en-core-web-sm==3.1.0) (2.0.6)\n",
      "Requirement already satisfied: thinc<8.1.0,>=8.0.9 in /usr/local/lib/python3.7/dist-packages (from spacy<3.2.0,>=3.1.0->en-core-web-sm==3.1.0) (8.0.13)\n",
      "Requirement already satisfied: tqdm<5.0.0,>=4.38.0 in /usr/local/lib/python3.7/dist-packages (from spacy<3.2.0,>=3.1.0->en-core-web-sm==3.1.0) (4.62.3)\n",
      "Requirement already satisfied: typer<0.5.0,>=0.3.0 in /usr/local/lib/python3.7/dist-packages (from spacy<3.2.0,>=3.1.0->en-core-web-sm==3.1.0) (0.4.0)\n",
      "Requirement already satisfied: zipp>=0.5 in /usr/local/lib/python3.7/dist-packages (from catalogue<2.1.0,>=2.0.6->spacy<3.2.0,>=3.1.0->en-core-web-sm==3.1.0) (3.6.0)\n",
      "Requirement already satisfied: pyparsing<3,>=2.0.2 in /usr/local/lib/python3.7/dist-packages (from packaging>=20.0->spacy<3.2.0,>=3.1.0->en-core-web-sm==3.1.0) (2.4.7)\n",
      "Requirement already satisfied: smart-open<6.0.0,>=5.0.0 in /usr/local/lib/python3.7/dist-packages (from pathy>=0.3.5->spacy<3.2.0,>=3.1.0->en-core-web-sm==3.1.0) (5.2.1)\n",
      "Requirement already satisfied: certifi>=2017.4.17 in /usr/local/lib/python3.7/dist-packages (from requests<3.0.0,>=2.13.0->spacy<3.2.0,>=3.1.0->en-core-web-sm==3.1.0) (2021.10.8)\n",
      "Requirement already satisfied: urllib3!=1.25.0,!=1.25.1,<1.26,>=1.21.1 in /usr/local/lib/python3.7/dist-packages (from requests<3.0.0,>=2.13.0->spacy<3.2.0,>=3.1.0->en-core-web-sm==3.1.0) (1.24.3)\n",
      "Requirement already satisfied: chardet<4,>=3.0.2 in /usr/local/lib/python3.7/dist-packages (from requests<3.0.0,>=2.13.0->spacy<3.2.0,>=3.1.0->en-core-web-sm==3.1.0) (3.0.4)\n",
      "Requirement already satisfied: idna<3,>=2.5 in /usr/local/lib/python3.7/dist-packages (from requests<3.0.0,>=2.13.0->spacy<3.2.0,>=3.1.0->en-core-web-sm==3.1.0) (2.10)\n",
      "Requirement already satisfied: click<9.0.0,>=7.1.1 in /usr/local/lib/python3.7/dist-packages (from typer<0.5.0,>=0.3.0->spacy<3.2.0,>=3.1.0->en-core-web-sm==3.1.0) (7.1.2)\n",
      "Requirement already satisfied: MarkupSafe>=0.23 in /usr/local/lib/python3.7/dist-packages (from jinja2->spacy<3.2.0,>=3.1.0->en-core-web-sm==3.1.0) (2.0.1)\n",
      "\u001b[38;5;2m✔ Download and installation successful\u001b[0m\n",
      "You can now load the package via spacy.load('en_core_web_sm')\n"
     ]
    }
   ],
   "source": [
    "!python -m spacy download en_core_web_sm"
   ]
  },
  {
   "cell_type": "code",
   "execution_count": 92,
   "metadata": {
    "colab": {
     "base_uri": "https://localhost:8080/"
    },
    "id": "iEcvxRnHjJjO",
    "outputId": "9e8d703a-c09d-4694-db3b-ad42f001dee8"
   },
   "outputs": [
    {
     "name": "stdout",
     "output_type": "stream",
     "text": [
      "Requirement already satisfied: spacy-transformers in /usr/local/lib/python3.7/dist-packages (1.1.2)\n",
      "Requirement already satisfied: srsly<3.0.0,>=2.4.0 in /usr/local/lib/python3.7/dist-packages (from spacy-transformers) (2.4.2)\n",
      "Requirement already satisfied: transformers<4.12.0,>=3.4.0 in /usr/local/lib/python3.7/dist-packages (from spacy-transformers) (4.11.3)\n",
      "Requirement already satisfied: spacy-alignments<1.0.0,>=0.7.2 in /usr/local/lib/python3.7/dist-packages (from spacy-transformers) (0.8.4)\n",
      "Requirement already satisfied: spacy<4.0.0,>=3.1.3 in /usr/local/lib/python3.7/dist-packages (from spacy-transformers) (3.1.3)\n",
      "Requirement already satisfied: torch>=1.6.0 in /usr/local/lib/python3.7/dist-packages (from spacy-transformers) (1.10.0+cu111)\n",
      "Requirement already satisfied: typing-extensions<4.0.0.0,>=3.7.4 in /usr/local/lib/python3.7/dist-packages (from spacy<4.0.0,>=3.1.3->spacy-transformers) (3.10.0.2)\n",
      "Requirement already satisfied: numpy>=1.15.0 in /usr/local/lib/python3.7/dist-packages (from spacy<4.0.0,>=3.1.3->spacy-transformers) (1.19.5)\n",
      "Requirement already satisfied: pathy>=0.3.5 in /usr/local/lib/python3.7/dist-packages (from spacy<4.0.0,>=3.1.3->spacy-transformers) (0.6.1)\n",
      "Requirement already satisfied: jinja2 in /usr/local/lib/python3.7/dist-packages (from spacy<4.0.0,>=3.1.3->spacy-transformers) (2.11.3)\n",
      "Requirement already satisfied: murmurhash<1.1.0,>=0.28.0 in /usr/local/lib/python3.7/dist-packages (from spacy<4.0.0,>=3.1.3->spacy-transformers) (1.0.6)\n",
      "Requirement already satisfied: tqdm<5.0.0,>=4.38.0 in /usr/local/lib/python3.7/dist-packages (from spacy<4.0.0,>=3.1.3->spacy-transformers) (4.62.3)\n",
      "Requirement already satisfied: spacy-legacy<3.1.0,>=3.0.8 in /usr/local/lib/python3.7/dist-packages (from spacy<4.0.0,>=3.1.3->spacy-transformers) (3.0.8)\n",
      "Requirement already satisfied: blis<0.8.0,>=0.4.0 in /usr/local/lib/python3.7/dist-packages (from spacy<4.0.0,>=3.1.3->spacy-transformers) (0.4.1)\n",
      "Requirement already satisfied: requests<3.0.0,>=2.13.0 in /usr/local/lib/python3.7/dist-packages (from spacy<4.0.0,>=3.1.3->spacy-transformers) (2.23.0)\n",
      "Requirement already satisfied: cymem<2.1.0,>=2.0.2 in /usr/local/lib/python3.7/dist-packages (from spacy<4.0.0,>=3.1.3->spacy-transformers) (2.0.6)\n",
      "Requirement already satisfied: wasabi<1.1.0,>=0.8.1 in /usr/local/lib/python3.7/dist-packages (from spacy<4.0.0,>=3.1.3->spacy-transformers) (0.8.2)\n",
      "Requirement already satisfied: typer<0.5.0,>=0.3.0 in /usr/local/lib/python3.7/dist-packages (from spacy<4.0.0,>=3.1.3->spacy-transformers) (0.4.0)\n",
      "Requirement already satisfied: packaging>=20.0 in /usr/local/lib/python3.7/dist-packages (from spacy<4.0.0,>=3.1.3->spacy-transformers) (21.2)\n",
      "Requirement already satisfied: pydantic!=1.8,!=1.8.1,<1.9.0,>=1.7.4 in /usr/local/lib/python3.7/dist-packages (from spacy<4.0.0,>=3.1.3->spacy-transformers) (1.8.2)\n",
      "Requirement already satisfied: setuptools in /usr/local/lib/python3.7/dist-packages (from spacy<4.0.0,>=3.1.3->spacy-transformers) (57.4.0)\n",
      "Requirement already satisfied: catalogue<2.1.0,>=2.0.6 in /usr/local/lib/python3.7/dist-packages (from spacy<4.0.0,>=3.1.3->spacy-transformers) (2.0.6)\n",
      "Requirement already satisfied: preshed<3.1.0,>=3.0.2 in /usr/local/lib/python3.7/dist-packages (from spacy<4.0.0,>=3.1.3->spacy-transformers) (3.0.6)\n",
      "Requirement already satisfied: thinc<8.1.0,>=8.0.9 in /usr/local/lib/python3.7/dist-packages (from spacy<4.0.0,>=3.1.3->spacy-transformers) (8.0.13)\n",
      "Requirement already satisfied: zipp>=0.5 in /usr/local/lib/python3.7/dist-packages (from catalogue<2.1.0,>=2.0.6->spacy<4.0.0,>=3.1.3->spacy-transformers) (3.6.0)\n",
      "Requirement already satisfied: pyparsing<3,>=2.0.2 in /usr/local/lib/python3.7/dist-packages (from packaging>=20.0->spacy<4.0.0,>=3.1.3->spacy-transformers) (2.4.7)\n",
      "Requirement already satisfied: smart-open<6.0.0,>=5.0.0 in /usr/local/lib/python3.7/dist-packages (from pathy>=0.3.5->spacy<4.0.0,>=3.1.3->spacy-transformers) (5.2.1)\n",
      "Requirement already satisfied: idna<3,>=2.5 in /usr/local/lib/python3.7/dist-packages (from requests<3.0.0,>=2.13.0->spacy<4.0.0,>=3.1.3->spacy-transformers) (2.10)\n",
      "Requirement already satisfied: chardet<4,>=3.0.2 in /usr/local/lib/python3.7/dist-packages (from requests<3.0.0,>=2.13.0->spacy<4.0.0,>=3.1.3->spacy-transformers) (3.0.4)\n",
      "Requirement already satisfied: urllib3!=1.25.0,!=1.25.1,<1.26,>=1.21.1 in /usr/local/lib/python3.7/dist-packages (from requests<3.0.0,>=2.13.0->spacy<4.0.0,>=3.1.3->spacy-transformers) (1.24.3)\n",
      "Requirement already satisfied: certifi>=2017.4.17 in /usr/local/lib/python3.7/dist-packages (from requests<3.0.0,>=2.13.0->spacy<4.0.0,>=3.1.3->spacy-transformers) (2021.10.8)\n",
      "Requirement already satisfied: tokenizers<0.11,>=0.10.1 in /usr/local/lib/python3.7/dist-packages (from transformers<4.12.0,>=3.4.0->spacy-transformers) (0.10.3)\n",
      "Requirement already satisfied: importlib-metadata in /usr/local/lib/python3.7/dist-packages (from transformers<4.12.0,>=3.4.0->spacy-transformers) (4.8.2)\n",
      "Requirement already satisfied: huggingface-hub>=0.0.17 in /usr/local/lib/python3.7/dist-packages (from transformers<4.12.0,>=3.4.0->spacy-transformers) (0.1.2)\n",
      "Requirement already satisfied: pyyaml>=5.1 in /usr/local/lib/python3.7/dist-packages (from transformers<4.12.0,>=3.4.0->spacy-transformers) (6.0)\n",
      "Requirement already satisfied: regex!=2019.12.17 in /usr/local/lib/python3.7/dist-packages (from transformers<4.12.0,>=3.4.0->spacy-transformers) (2019.12.20)\n",
      "Requirement already satisfied: sacremoses in /usr/local/lib/python3.7/dist-packages (from transformers<4.12.0,>=3.4.0->spacy-transformers) (0.0.46)\n",
      "Requirement already satisfied: filelock in /usr/local/lib/python3.7/dist-packages (from transformers<4.12.0,>=3.4.0->spacy-transformers) (3.3.2)\n",
      "Requirement already satisfied: click<9.0.0,>=7.1.1 in /usr/local/lib/python3.7/dist-packages (from typer<0.5.0,>=0.3.0->spacy<4.0.0,>=3.1.3->spacy-transformers) (7.1.2)\n",
      "Requirement already satisfied: MarkupSafe>=0.23 in /usr/local/lib/python3.7/dist-packages (from jinja2->spacy<4.0.0,>=3.1.3->spacy-transformers) (2.0.1)\n",
      "Requirement already satisfied: six in /usr/local/lib/python3.7/dist-packages (from sacremoses->transformers<4.12.0,>=3.4.0->spacy-transformers) (1.15.0)\n",
      "Requirement already satisfied: joblib in /usr/local/lib/python3.7/dist-packages (from sacremoses->transformers<4.12.0,>=3.4.0->spacy-transformers) (1.1.0)\n"
     ]
    }
   ],
   "source": [
    "pip install spacy-transformers"
   ]
  },
  {
   "cell_type": "code",
   "execution_count": 93,
   "metadata": {
    "colab": {
     "base_uri": "https://localhost:8080/"
    },
    "id": "_G8ws85qjJWu",
    "outputId": "b150e07e-9c89-4367-d18d-75b016b7b115"
   },
   "outputs": [
    {
     "name": "stdout",
     "output_type": "stream",
     "text": [
      "Requirement already satisfied: spacy-entity-linker in /usr/local/lib/python3.7/dist-packages (1.0.1)\n",
      "Requirement already satisfied: spacy>=3.0.0 in /usr/local/lib/python3.7/dist-packages (from spacy-entity-linker) (3.1.3)\n",
      "Requirement already satisfied: numpy>=1.0.0 in /usr/local/lib/python3.7/dist-packages (from spacy-entity-linker) (1.19.5)\n",
      "Requirement already satisfied: preshed<3.1.0,>=3.0.2 in /usr/local/lib/python3.7/dist-packages (from spacy>=3.0.0->spacy-entity-linker) (3.0.6)\n",
      "Requirement already satisfied: typing-extensions<4.0.0.0,>=3.7.4 in /usr/local/lib/python3.7/dist-packages (from spacy>=3.0.0->spacy-entity-linker) (3.10.0.2)\n",
      "Requirement already satisfied: packaging>=20.0 in /usr/local/lib/python3.7/dist-packages (from spacy>=3.0.0->spacy-entity-linker) (21.2)\n",
      "Requirement already satisfied: tqdm<5.0.0,>=4.38.0 in /usr/local/lib/python3.7/dist-packages (from spacy>=3.0.0->spacy-entity-linker) (4.62.3)\n",
      "Requirement already satisfied: requests<3.0.0,>=2.13.0 in /usr/local/lib/python3.7/dist-packages (from spacy>=3.0.0->spacy-entity-linker) (2.23.0)\n",
      "Requirement already satisfied: pathy>=0.3.5 in /usr/local/lib/python3.7/dist-packages (from spacy>=3.0.0->spacy-entity-linker) (0.6.1)\n",
      "Requirement already satisfied: typer<0.5.0,>=0.3.0 in /usr/local/lib/python3.7/dist-packages (from spacy>=3.0.0->spacy-entity-linker) (0.4.0)\n",
      "Requirement already satisfied: murmurhash<1.1.0,>=0.28.0 in /usr/local/lib/python3.7/dist-packages (from spacy>=3.0.0->spacy-entity-linker) (1.0.6)\n",
      "Requirement already satisfied: spacy-legacy<3.1.0,>=3.0.8 in /usr/local/lib/python3.7/dist-packages (from spacy>=3.0.0->spacy-entity-linker) (3.0.8)\n",
      "Requirement already satisfied: thinc<8.1.0,>=8.0.9 in /usr/local/lib/python3.7/dist-packages (from spacy>=3.0.0->spacy-entity-linker) (8.0.13)\n",
      "Requirement already satisfied: cymem<2.1.0,>=2.0.2 in /usr/local/lib/python3.7/dist-packages (from spacy>=3.0.0->spacy-entity-linker) (2.0.6)\n",
      "Requirement already satisfied: srsly<3.0.0,>=2.4.1 in /usr/local/lib/python3.7/dist-packages (from spacy>=3.0.0->spacy-entity-linker) (2.4.2)\n",
      "Requirement already satisfied: setuptools in /usr/local/lib/python3.7/dist-packages (from spacy>=3.0.0->spacy-entity-linker) (57.4.0)\n",
      "Requirement already satisfied: wasabi<1.1.0,>=0.8.1 in /usr/local/lib/python3.7/dist-packages (from spacy>=3.0.0->spacy-entity-linker) (0.8.2)\n",
      "Requirement already satisfied: catalogue<2.1.0,>=2.0.6 in /usr/local/lib/python3.7/dist-packages (from spacy>=3.0.0->spacy-entity-linker) (2.0.6)\n",
      "Requirement already satisfied: jinja2 in /usr/local/lib/python3.7/dist-packages (from spacy>=3.0.0->spacy-entity-linker) (2.11.3)\n",
      "Requirement already satisfied: blis<0.8.0,>=0.4.0 in /usr/local/lib/python3.7/dist-packages (from spacy>=3.0.0->spacy-entity-linker) (0.4.1)\n",
      "Requirement already satisfied: pydantic!=1.8,!=1.8.1,<1.9.0,>=1.7.4 in /usr/local/lib/python3.7/dist-packages (from spacy>=3.0.0->spacy-entity-linker) (1.8.2)\n",
      "Requirement already satisfied: zipp>=0.5 in /usr/local/lib/python3.7/dist-packages (from catalogue<2.1.0,>=2.0.6->spacy>=3.0.0->spacy-entity-linker) (3.6.0)\n",
      "Requirement already satisfied: pyparsing<3,>=2.0.2 in /usr/local/lib/python3.7/dist-packages (from packaging>=20.0->spacy>=3.0.0->spacy-entity-linker) (2.4.7)\n",
      "Requirement already satisfied: smart-open<6.0.0,>=5.0.0 in /usr/local/lib/python3.7/dist-packages (from pathy>=0.3.5->spacy>=3.0.0->spacy-entity-linker) (5.2.1)\n",
      "Requirement already satisfied: idna<3,>=2.5 in /usr/local/lib/python3.7/dist-packages (from requests<3.0.0,>=2.13.0->spacy>=3.0.0->spacy-entity-linker) (2.10)\n",
      "Requirement already satisfied: urllib3!=1.25.0,!=1.25.1,<1.26,>=1.21.1 in /usr/local/lib/python3.7/dist-packages (from requests<3.0.0,>=2.13.0->spacy>=3.0.0->spacy-entity-linker) (1.24.3)\n",
      "Requirement already satisfied: chardet<4,>=3.0.2 in /usr/local/lib/python3.7/dist-packages (from requests<3.0.0,>=2.13.0->spacy>=3.0.0->spacy-entity-linker) (3.0.4)\n",
      "Requirement already satisfied: certifi>=2017.4.17 in /usr/local/lib/python3.7/dist-packages (from requests<3.0.0,>=2.13.0->spacy>=3.0.0->spacy-entity-linker) (2021.10.8)\n",
      "Requirement already satisfied: click<9.0.0,>=7.1.1 in /usr/local/lib/python3.7/dist-packages (from typer<0.5.0,>=0.3.0->spacy>=3.0.0->spacy-entity-linker) (7.1.2)\n",
      "Requirement already satisfied: MarkupSafe>=0.23 in /usr/local/lib/python3.7/dist-packages (from jinja2->spacy>=3.0.0->spacy-entity-linker) (2.0.1)\n"
     ]
    }
   ],
   "source": [
    "pip install spacy-entity-linker"
   ]
  },
  {
   "cell_type": "code",
   "execution_count": 94,
   "metadata": {
    "id": "N1ir59O2jYd8"
   },
   "outputs": [],
   "source": [
    "!python -m spacy_entity_linker \"download_knowledge_base\""
   ]
  },
  {
   "cell_type": "code",
   "execution_count": 95,
   "metadata": {
    "colab": {
     "base_uri": "https://localhost:8080/"
    },
    "id": "DugDrD4TjYRA",
    "outputId": "984e5f6f-af0e-43cf-e6e2-7efd2f27c51b"
   },
   "outputs": [
    {
     "data": {
      "text/plain": [
       "<spacy_entity_linker.EntityLinker.EntityLinker at 0x7fd15a208ad0>"
      ]
     },
     "execution_count": 95,
     "metadata": {},
     "output_type": "execute_result"
    }
   ],
   "source": [
    "import spacy\n",
    "import en_core_web_sm\n",
    "nlp = spacy.load('en_core_web_sm')\n",
    "# add pipeline (declared through entry_points in setup.py)\n",
    "nlp.add_pipe(\"entityLinker\",last= True)"
   ]
  },
  {
   "cell_type": "code",
   "execution_count": 116,
   "metadata": {
    "colab": {
     "base_uri": "https://localhost:8080/"
    },
    "id": "_vWe_G9X1-vh",
    "outputId": "a269057b-50e2-459f-f80e-72260eefcd1a"
   },
   "outputs": [
    {
     "name": "stdout",
     "output_type": "stream",
     "text": [
      "Collecting coclust\n",
      "  Downloading coclust-0.2.1.tar.gz (21 kB)\n",
      "Requirement already satisfied: numpy in /usr/local/lib/python3.7/dist-packages (from coclust) (1.19.5)\n",
      "Requirement already satisfied: scipy in /usr/local/lib/python3.7/dist-packages (from coclust) (1.4.1)\n",
      "Requirement already satisfied: scikit-learn in /usr/local/lib/python3.7/dist-packages (from coclust) (0.22.2.post1)\n",
      "Requirement already satisfied: joblib>=0.11 in /usr/local/lib/python3.7/dist-packages (from scikit-learn->coclust) (1.1.0)\n",
      "Building wheels for collected packages: coclust\n",
      "  Building wheel for coclust (setup.py) ... \u001b[?25l\u001b[?25hdone\n",
      "  Created wheel for coclust: filename=coclust-0.2.1-py3-none-any.whl size=29870 sha256=6257decae5ae64a2dd16ce0ec29cfbefa35a3e9cd1afcdc9367d4ad895911d41\n",
      "  Stored in directory: /root/.cache/pip/wheels/78/e9/dc/3f80429511bb4aa68ebf39a0f141661230809490d53557ce4a\n",
      "Successfully built coclust\n",
      "Installing collected packages: coclust\n",
      "Successfully installed coclust-0.2.1\n"
     ]
    }
   ],
   "source": [
    "pip install coclust"
   ]
  },
  {
   "cell_type": "code",
   "execution_count": 132,
   "metadata": {
    "id": "2rEBzRk42Cgu"
   },
   "outputs": [],
   "source": [
    "import coclust\n",
    "from coclust.clustering import SphericalKmeans\n",
    "from coclust.visualization import plot_cluster_top_terms"
   ]
  },
  {
   "cell_type": "markdown",
   "metadata": {
    "id": "tlFCaq4Y9K6F"
   },
   "source": [
    "# Importer les données "
   ]
  },
  {
   "cell_type": "code",
   "execution_count": 96,
   "metadata": {
    "id": "qPdAVh02flXo"
   },
   "outputs": [],
   "source": [
    "DF=pd.read_csv('/content/drive/MyDrive/Colab Notebooks/Business Intelligence/Projet /DBLP_Subset_processed.txt')"
   ]
  },
  {
   "cell_type": "code",
   "execution_count": 97,
   "metadata": {
    "id": "inPwwSughgeK"
   },
   "outputs": [],
   "source": [
    "abstract_lemmatized = DF['Abstract']\n"
   ]
  },
  {
   "cell_type": "markdown",
   "metadata": {
    "id": "ONnrA1Zuismt"
   },
   "source": [
    "# Matrice Document-Entité "
   ]
  },
  {
   "cell_type": "markdown",
   "metadata": {
    "id": "wyeG2M_vi59L"
   },
   "source": [
    "## Détection des entités nommées "
   ]
  },
  {
   "cell_type": "code",
   "execution_count": 98,
   "metadata": {
    "id": "GwfxSUE4ixuA"
   },
   "outputs": [],
   "source": [
    "listEntity=[]\n",
    "for a,abs in enumerate(abstract_lemmatized):\n",
    "  doc = nlp(str(abs))\n",
    "  listInter=[]\n",
    "  #returns all entities in the whole document\n",
    "  all_linked_entities = doc._.linkedEntities\n",
    "  #iterates over sentences ans prints linke entities\n",
    "  for sent in doc.sents:\n",
    "    for i in range(len(sent._.linkedEntities)):\n",
    "      \n",
    "      #entity=sent._.linkedEntities[i].get_id()\n",
    "      entity=sent._.linkedEntities[i]\n",
    "\n",
    "      listInter.append(entity)\n",
    "  listEntity.append(listInter)"
   ]
  },
  {
   "cell_type": "markdown",
   "metadata": {
    "id": "1VUx2HpwxWqs"
   },
   "source": [
    "## Matrice Documents-Entités "
   ]
  },
  {
   "cell_type": "code",
   "execution_count": 99,
   "metadata": {
    "id": "NrCNu0GPhiv1"
   },
   "outputs": [],
   "source": [
    "list_entity=[]\n",
    "\n",
    "for l in listEntity:\n",
    "  string = ' '.join([str(item) for item in l]) \n",
    "  list_entity.append(string)\n",
    "\n",
    "#len(list_entity)"
   ]
  },
  {
   "cell_type": "code",
   "execution_count": 100,
   "metadata": {
    "colab": {
     "base_uri": "https://localhost:8080/"
    },
    "id": "DOX9MF25ipsL",
    "outputId": "31b00585-a5b7-4486-d998-3bf426ecacb4"
   },
   "outputs": [
    {
     "data": {
      "text/plain": [
       "<17633x9462 sparse matrix of type '<class 'numpy.int64'>'\n",
       "\twith 292970 stored elements in Compressed Sparse Row format>"
      ]
     },
     "execution_count": 100,
     "metadata": {},
     "output_type": "execute_result"
    }
   ],
   "source": [
    "# Vectorizer \n",
    "vectorizer = CountVectorizer()\n",
    "MatEntityDoc = vectorizer.fit_transform(list_entity)\n",
    "MatEntityDoc"
   ]
  },
  {
   "cell_type": "markdown",
   "metadata": {
    "id": "cu89_LAvzObv"
   },
   "source": [
    "#Kmeans sur la matrice Documents-Entité "
   ]
  },
  {
   "cell_type": "markdown",
   "metadata": {
    "id": "n-CS46HmIvSl"
   },
   "source": [
    "## Déterminer le nombre de clusters optimal en utilisant la methode Elbow "
   ]
  },
  {
   "cell_type": "code",
   "execution_count": 101,
   "metadata": {
    "colab": {
     "base_uri": "https://localhost:8080/",
     "height": 295
    },
    "id": "aD6Q-jvLI1Fx",
    "outputId": "4fbc2a34-0ac6-4a6a-c529-aee7de47e0b0"
   },
   "outputs": [
    {
     "data": {
      "image/png": "[encoded data removed]",
      "text/plain": [
       "<Figure size 432x288 with 1 Axes>"
      ]
     },
     "metadata": {
      "needs_background": "light"
     },
     "output_type": "display_data"
    }
   ],
   "source": [
    "Sum_of_squared_distances = []\n",
    "K = range(1,10)\n",
    "for k in K:\n",
    "    km = KMeans(n_clusters=k)\n",
    "    km = km.fit(MatEntityDoc)\n",
    "    Sum_of_squared_distances.append(km.inertia_)\n",
    "\n",
    "plt.plot(K, Sum_of_squared_distances, 'bx-')\n",
    "plt.xlabel('k')\n",
    "plt.ylabel('Sum_of_squared_distances')\n",
    "plt.title('Elbow Method For Optimal k')\n",
    "plt.show()"
   ]
  },
  {
   "cell_type": "markdown",
   "metadata": {
    "id": "E8todWACfvzb"
   },
   "source": [
    "**Remarque:**\n",
    "*   Nous remarquons que la méthode elbow dans notre cas ne nous permet pas d'identifier l'existance d'un coude. \n",
    "Néanmoins, k=4 peut être une bonne valeur pour initialiser le nombre de clusters pour lancer le kmeans. "
   ]
  },
  {
   "cell_type": "markdown",
   "metadata": {
    "id": "w45j7zDdI2O3"
   },
   "source": [
    "# Kmeans "
   ]
  },
  {
   "cell_type": "code",
   "execution_count": 102,
   "metadata": {
    "id": "5bCIANODkWgS"
   },
   "outputs": [],
   "source": [
    "km = KMeans(n_clusters=4, max_iter=100, n_init=5,random_state=0)\n",
    "km = km.fit(MatEntityDoc)   "
   ]
  },
  {
   "cell_type": "code",
   "execution_count": 103,
   "metadata": {
    "id": "5az3v3s7otH6"
   },
   "outputs": [],
   "source": [
    "labels= km.labels_"
   ]
  },
  {
   "cell_type": "code",
   "execution_count": 104,
   "metadata": {
    "id": "Vr5iBZ-NpXw9"
   },
   "outputs": [],
   "source": [
    "cluster_center=km.cluster_centers_"
   ]
  },
  {
   "cell_type": "code",
   "execution_count": 105,
   "metadata": {
    "colab": {
     "base_uri": "https://localhost:8080/",
     "height": 196
    },
    "id": "iY664XyBfc3O",
    "outputId": "f8bb512c-6d88-4679-9dd5-ff514a816915"
   },
   "outputs": [
    {
     "data": {
      "text/html": [
       "<div>\n",
       "<style scoped>\n",
       "    .dataframe tbody tr th:only-of-type {\n",
       "        vertical-align: middle;\n",
       "    }\n",
       "\n",
       "    .dataframe tbody tr th {\n",
       "        vertical-align: top;\n",
       "    }\n",
       "\n",
       "    .dataframe thead th {\n",
       "        text-align: right;\n",
       "    }\n",
       "</style>\n",
       "<table border=\"1\" class=\"dataframe\">\n",
       "  <thead>\n",
       "    <tr style=\"text-align: right;\">\n",
       "      <th></th>\n",
       "      <th>Pub_Venue</th>\n",
       "      <th>Year</th>\n",
       "      <th>Authors</th>\n",
       "      <th>Title</th>\n",
       "      <th>Index</th>\n",
       "      <th>Id</th>\n",
       "      <th>Abstract</th>\n",
       "      <th>Bow Clus Label</th>\n",
       "    </tr>\n",
       "  </thead>\n",
       "  <tbody>\n",
       "    <tr>\n",
       "      <th>0</th>\n",
       "      <td>DAC</td>\n",
       "      <td>1988</td>\n",
       "      <td>['Chung-Kuan Cheng', 'David N. Deutsch']</td>\n",
       "      <td>Improved Channel Routing by Via Minimization a...</td>\n",
       "      <td>131751</td>\n",
       "      <td>['133716', '133521', '134343']</td>\n",
       "      <td>channel routing area improvement mean via mini...</td>\n",
       "      <td>1</td>\n",
       "    </tr>\n",
       "    <tr>\n",
       "      <th>1</th>\n",
       "      <td>DAC</td>\n",
       "      <td>2006</td>\n",
       "      <td>['Lei Cheng', 'Liang Deng', 'Deming Chen', 'Ma...</td>\n",
       "      <td>A fast simultaneous input vector generation an...</td>\n",
       "      <td>131752</td>\n",
       "      <td>['132550', '530568', '436486', '134259', '2830...</td>\n",
       "      <td>input vector control ivc technique observation...</td>\n",
       "      <td>1</td>\n",
       "    </tr>\n",
       "  </tbody>\n",
       "</table>\n",
       "</div>"
      ],
      "text/plain": [
       "  Pub_Venue  ...  Bow Clus Label\n",
       "0       DAC  ...               1\n",
       "1       DAC  ...               1\n",
       "\n",
       "[2 rows x 8 columns]"
      ]
     },
     "execution_count": 105,
     "metadata": {},
     "output_type": "execute_result"
    }
   ],
   "source": [
    "# assigner un cluster à chaque abstract ( sorte de label)\n",
    "DF['Bow Clus Label'] = labels  # la dernière colonne du DF représente le numéro du label \n",
    "DF.head(2)"
   ]
  },
  {
   "cell_type": "markdown",
   "metadata": {
    "id": "ny8Md9G3fGv0"
   },
   "source": [
    "## Evaluation des résultats du clustering "
   ]
  },
  {
   "cell_type": "markdown",
   "metadata": {
    "id": "TsyKS7zIfSAY"
   },
   "source": [
    "### Visualiser la distribution des articles à travers les  clusters "
   ]
  },
  {
   "cell_type": "code",
   "execution_count": 106,
   "metadata": {
    "colab": {
     "base_uri": "https://localhost:8080/"
    },
    "id": "xoMk40gSptZO",
    "outputId": "3a820adf-d95c-4326-942d-e0f9748a8995"
   },
   "outputs": [
    {
     "data": {
      "text/plain": [
       "Bow Clus Label\n",
       "0      306\n",
       "1    14233\n",
       "2     1679\n",
       "3     1415\n",
       "Name: Title, dtype: int64"
      ]
     },
     "execution_count": 106,
     "metadata": {},
     "output_type": "execute_result"
    }
   ],
   "source": [
    "# Combien d'articles appartiennent à chaque cluster\n",
    "DF.groupby(['Bow Clus Label'])['Title'].count()"
   ]
  },
  {
   "cell_type": "code",
   "execution_count": 107,
   "metadata": {
    "colab": {
     "base_uri": "https://localhost:8080/",
     "height": 295
    },
    "id": "62W7R9DUftSt",
    "outputId": "ce29ec36-312a-48a3-be4e-3e844ce3c787"
   },
   "outputs": [
    {
     "data": {
      "image/png": "[encoded data removed]",
      "text/plain": [
       "<Figure size 432x288 with 1 Axes>"
      ]
     },
     "metadata": {
      "needs_background": "light"
     },
     "output_type": "display_data"
    }
   ],
   "source": [
    "#visualiser comment les articles sont distribués à travers les 4 clusters \n",
    "\n",
    "plt.bar([x for x in range(4)], DF.groupby(['Bow Clus Label'])['Abstract'].count(), alpha = 0.4)\n",
    "plt.title('KMeans cluster points')\n",
    "plt.xlabel(\"Numéro du cluster\")\n",
    "plt.ylabel(\"Nombre d'articles \")\n",
    "plt.show()"
   ]
  },
  {
   "cell_type": "markdown",
   "metadata": {
    "id": "nxD1OcAofolm"
   },
   "source": [
    "**Remarque:**\n",
    "*   On remarque que le cluster contenant le plus d'articles est le cluster n°1 avec 14233 articles.\n",
    "*   Les articles ne sont pas distribués de manière uniforme entre les différents clusters?"
   ]
  },
  {
   "cell_type": "markdown",
   "metadata": {
    "id": "156r3UdHgYDM"
   },
   "source": [
    "### Affichage du TOP 10 des termes présents dans chaque cluster"
   ]
  },
  {
   "cell_type": "code",
   "execution_count": 108,
   "metadata": {
    "colab": {
     "base_uri": "https://localhost:8080/"
    },
    "id": "FFPJHbOJqCf0",
    "outputId": "badcc00d-3a4d-4d09-9bb1-ffbf814e10d6"
   },
   "outputs": [
    {
     "name": "stdout",
     "output_type": "stream",
     "text": [
      "Top 10 des termes pour chaque cluster:\n",
      "Cluster 0: question\n",
      " mark\n",
      " data\n",
      " database\n",
      " system\n",
      " time\n",
      " means\n",
      " language\n",
      " user\n",
      " algorithm\n",
      "Cluster 1: mathematical\n",
      " computer\n",
      " time\n",
      " result\n",
      " design\n",
      " algorithm\n",
      " of\n",
      " function\n",
      " system\n",
      " solution\n",
      "Cluster 2: system\n",
      " computer\n",
      " software\n",
      " mathematical\n",
      " design\n",
      " data\n",
      " database\n",
      " application\n",
      " language\n",
      " time\n",
      "Cluster 3: data\n",
      " database\n",
      " computer\n",
      " system\n",
      " type\n",
      " application\n",
      " structure\n",
      " mathematical\n",
      " algorithm\n",
      " time\n"
     ]
    }
   ],
   "source": [
    "# Trouver le top 10 termes présents dans chaque cluster\n",
    "print(\"Top 10 des termes pour chaque cluster:\")\n",
    "order_centroids = km.cluster_centers_.argsort()[:, ::-1]\n",
    "terms = vectorizer.get_feature_names()\n",
    "\n",
    "for i in range(4):\n",
    "    print(\"Cluster %d:\" % i, end='')\n",
    "    for ind in order_centroids[i, :10]:\n",
    "        print(' %s' % terms[ind], end='')\n",
    "        print()"
   ]
  },
  {
   "cell_type": "markdown",
   "metadata": {
    "id": "AFiSYleJlDPX"
   },
   "source": [
    "**Remarque**:\n",
    "*  On remarque qu'il y'a des termes qui se répètent dans les 4 clusters. ça pourrait laisser croire que nos clusters ne sont pas formés sur la base des sujets qu'ils traitent."
   ]
  },
  {
   "cell_type": "markdown",
   "metadata": {
    "id": "9Azs9a-blIQ_"
   },
   "source": [
    "### Distribution des clusters par revue"
   ]
  },
  {
   "cell_type": "code",
   "execution_count": 109,
   "metadata": {
    "colab": {
     "base_uri": "https://localhost:8080/"
    },
    "id": "ov4qz8q3p1pb",
    "outputId": "e6797a56-b696-4d9f-f14f-1c1651788eec"
   },
   "outputs": [
    {
     "data": {
      "text/plain": [
       "Pub_Venue                          Bow Clus Label\n",
       "DAC                                1                 1787\n",
       "                                   2                  167\n",
       "                                   3                   77\n",
       "DAGM-Symposium                     1                   59\n",
       "                                   2                    5\n",
       "                                   3                    4\n",
       "DATA BASE                          1                  161\n",
       "                                   2                   41\n",
       "                                   3                   12\n",
       "Data Min. Knowl. Discov.           0                    2\n",
       "                                   1                   82\n",
       "                                   2                   11\n",
       "                                   3                   86\n",
       "Des. Codes Cryptography            1                  611\n",
       "                                   2                   18\n",
       "                                   3                   19\n",
       "Discrete Applied Mathematics       0                    3\n",
       "                                   1                 1284\n",
       "                                   2                   22\n",
       "                                   3                   26\n",
       "Distributed Computing              1                  175\n",
       "                                   2                   39\n",
       "                                   3                   10\n",
       "Electr. Notes Theor. Comput. Sci.  0                    3\n",
       "                                   1                 1523\n",
       "                                   2                  291\n",
       "                                   3                   92\n",
       "GECCO                              1                 1307\n",
       "                                   2                  103\n",
       "                                   3                   62\n",
       "GECCO (Companion)                  1                  233\n",
       "                                   2                   22\n",
       "                                   3                   14\n",
       "GECCO Workshops                    1                   57\n",
       "                                   2                    5\n",
       "                                   3                    4\n",
       "ICC                                0                    1\n",
       "                                   1                  508\n",
       "                                   2                   40\n",
       "                                   3                   38\n",
       "ICCAD                              1                 1494\n",
       "                                   2                  113\n",
       "                                   3                   59\n",
       "ICCBR                              0                    1\n",
       "                                   1                   55\n",
       "                                   2                   12\n",
       "                                   3                    3\n",
       "ICCE                               1                   46\n",
       "                                   2                    9\n",
       "ICCSA (1)                          1                  117\n",
       "Name: Pub_Venue, dtype: int64"
      ]
     },
     "execution_count": 109,
     "metadata": {},
     "output_type": "execute_result"
    }
   ],
   "source": [
    "DF.groupby(['Pub_Venue','Bow Clus Label'])['Pub_Venue'].count().head(50)"
   ]
  },
  {
   "cell_type": "code",
   "execution_count": 110,
   "metadata": {
    "colab": {
     "base_uri": "https://localhost:8080/"
    },
    "id": "dbAq4OtWlQRi",
    "outputId": "593ff142-a3b8-4c91-9bf0-1afe5d369814"
   },
   "outputs": [
    {
     "data": {
      "text/plain": [
       "Pub_Venue                        Bow Clus Label\n",
       "ICCE                             1                   46\n",
       "                                 2                    9\n",
       "ICCSA (1)                        1                  117\n",
       "                                 2                   22\n",
       "                                 3                   13\n",
       "ICCSA (2)                        0                    2\n",
       "                                 1                  120\n",
       "                                 2                   15\n",
       "                                 3                    8\n",
       "ICCSA (3)                        0                    1\n",
       "                                 1                  112\n",
       "                                 2                   17\n",
       "                                 3                   14\n",
       "ICCV                             1                   72\n",
       "                                 3                    4\n",
       "ICIP                             0                    1\n",
       "                                 1                  720\n",
       "                                 2                   31\n",
       "                                 3                   60\n",
       "IJCAI                            0                    8\n",
       "                                 1                 1614\n",
       "                                 2                  211\n",
       "                                 3                   72\n",
       "IJCAI (1)                        1                   68\n",
       "                                 2                   10\n",
       "                                 3                    5\n",
       "Journal of Systems and Software  0                   16\n",
       "                                 1                  624\n",
       "                                 2                  191\n",
       "                                 3                   85\n",
       "Knowl. Inf. Syst.                0                    2\n",
       "                                 1                   34\n",
       "                                 2                    7\n",
       "                                 3                   26\n",
       "SIGMOD Conference                0                  243\n",
       "                                 1                  737\n",
       "                                 2                  168\n",
       "                                 3                  479\n",
       "SIGMOD Record                    0                   19\n",
       "                                 1                  317\n",
       "                                 2                   59\n",
       "                                 3                  115\n",
       "SMC                              0                    2\n",
       "                                 1                  248\n",
       "                                 2                   49\n",
       "                                 3                   26\n",
       "STOC                             0                    2\n",
       "                                 1                   68\n",
       "                                 2                    1\n",
       "                                 3                    2\n",
       "Name: Pub_Venue, dtype: int64"
      ]
     },
     "execution_count": 110,
     "metadata": {},
     "output_type": "execute_result"
    }
   ],
   "source": [
    "DF.groupby(['Pub_Venue','Bow Clus Label'])['Pub_Venue'].count().tail(50)"
   ]
  },
  {
   "cell_type": "markdown",
   "metadata": {
    "id": "Bx_fVOUaC-7t"
   },
   "source": [
    "**Remarque:**\n",
    "\n",
    "\n",
    "\n",
    "*   On remarque que les articles de chaque revue sont affectés à un cluster en particulier. "
   ]
  },
  {
   "cell_type": "markdown",
   "metadata": {
    "id": "PdP9TIuSlOoA"
   },
   "source": [
    "**Remarque:**"
   ]
  },
  {
   "cell_type": "markdown",
   "metadata": {
    "id": "TGmWB3CrljVm"
   },
   "source": [
    "### Fréquence d'apparition de chaque revue par cluster"
   ]
  },
  {
   "cell_type": "code",
   "execution_count": 111,
   "metadata": {
    "colab": {
     "base_uri": "https://localhost:8080/"
    },
    "id": "czcdUhfAliSV",
    "outputId": "bf625abc-3f9a-4107-b915-d71322de368a"
   },
   "outputs": [
    {
     "data": {
      "text/plain": [
       "Bow Clus Label  Pub_Venue                        \n",
       "0               Data Min. Knowl. Discov.                2\n",
       "                Discrete Applied Mathematics            3\n",
       "                Electr. Notes Theor. Comput. Sci.       3\n",
       "                ICC                                     1\n",
       "                ICCBR                                   1\n",
       "                ICCSA (2)                               2\n",
       "                ICCSA (3)                               1\n",
       "                ICIP                                    1\n",
       "                IJCAI                                   8\n",
       "                Journal of Systems and Software        16\n",
       "                Knowl. Inf. Syst.                       2\n",
       "                SIGMOD Conference                     243\n",
       "                SIGMOD Record                          19\n",
       "                SMC                                     2\n",
       "                STOC                                    2\n",
       "1               DAC                                  1787\n",
       "                DAGM-Symposium                         59\n",
       "                DATA BASE                             161\n",
       "                Data Min. Knowl. Discov.               82\n",
       "                Des. Codes Cryptography               611\n",
       "                Discrete Applied Mathematics         1284\n",
       "                Distributed Computing                 175\n",
       "                Electr. Notes Theor. Comput. Sci.    1523\n",
       "                GECCO                                1307\n",
       "                GECCO (Companion)                     233\n",
       "                GECCO Workshops                        57\n",
       "                ICC                                   508\n",
       "                ICCAD                                1494\n",
       "                ICCBR                                  55\n",
       "                ICCE                                   46\n",
       "                ICCSA (1)                             117\n",
       "                ICCSA (2)                             120\n",
       "                ICCSA (3)                             112\n",
       "                ICCV                                   72\n",
       "                ICIP                                  720\n",
       "                IJCAI                                1614\n",
       "                IJCAI (1)                              68\n",
       "                Journal of Systems and Software       624\n",
       "                Knowl. Inf. Syst.                      34\n",
       "                SIGMOD Conference                     737\n",
       "                SIGMOD Record                         317\n",
       "                SMC                                   248\n",
       "                STOC                                   68\n",
       "2               DAC                                   167\n",
       "                DAGM-Symposium                          5\n",
       "                DATA BASE                              41\n",
       "                Data Min. Knowl. Discov.               11\n",
       "                Des. Codes Cryptography                18\n",
       "                Discrete Applied Mathematics           22\n",
       "                Distributed Computing                  39\n",
       "Name: Pub_Venue, dtype: int64"
      ]
     },
     "execution_count": 111,
     "metadata": {},
     "output_type": "execute_result"
    }
   ],
   "source": [
    "DF.groupby(['Bow Clus Label','Pub_Venue'])['Pub_Venue'].count().head(50)"
   ]
  },
  {
   "cell_type": "code",
   "execution_count": 112,
   "metadata": {
    "colab": {
     "base_uri": "https://localhost:8080/"
    },
    "id": "-fMR-Q0wlyse",
    "outputId": "9e2f6dbd-b21c-4a19-96b8-0f371c118290"
   },
   "outputs": [
    {
     "data": {
      "text/plain": [
       "Bow Clus Label  Pub_Venue                        \n",
       "2               Des. Codes Cryptography               18\n",
       "                Discrete Applied Mathematics          22\n",
       "                Distributed Computing                 39\n",
       "                Electr. Notes Theor. Comput. Sci.    291\n",
       "                GECCO                                103\n",
       "                GECCO (Companion)                     22\n",
       "                GECCO Workshops                        5\n",
       "                ICC                                   40\n",
       "                ICCAD                                113\n",
       "                ICCBR                                 12\n",
       "                ICCE                                   9\n",
       "                ICCSA (1)                             22\n",
       "                ICCSA (2)                             15\n",
       "                ICCSA (3)                             17\n",
       "                ICIP                                  31\n",
       "                IJCAI                                211\n",
       "                IJCAI (1)                             10\n",
       "                Journal of Systems and Software      191\n",
       "                Knowl. Inf. Syst.                      7\n",
       "                SIGMOD Conference                    168\n",
       "                SIGMOD Record                         59\n",
       "                SMC                                   49\n",
       "                STOC                                   1\n",
       "3               DAC                                   77\n",
       "                DAGM-Symposium                         4\n",
       "                DATA BASE                             12\n",
       "                Data Min. Knowl. Discov.              86\n",
       "                Des. Codes Cryptography               19\n",
       "                Discrete Applied Mathematics          26\n",
       "                Distributed Computing                 10\n",
       "                Electr. Notes Theor. Comput. Sci.     92\n",
       "                GECCO                                 62\n",
       "                GECCO (Companion)                     14\n",
       "                GECCO Workshops                        4\n",
       "                ICC                                   38\n",
       "                ICCAD                                 59\n",
       "                ICCBR                                  3\n",
       "                ICCSA (1)                             13\n",
       "                ICCSA (2)                              8\n",
       "                ICCSA (3)                             14\n",
       "                ICCV                                   4\n",
       "                ICIP                                  60\n",
       "                IJCAI                                 72\n",
       "                IJCAI (1)                              5\n",
       "                Journal of Systems and Software       85\n",
       "                Knowl. Inf. Syst.                     26\n",
       "                SIGMOD Conference                    479\n",
       "                SIGMOD Record                        115\n",
       "                SMC                                   26\n",
       "                STOC                                   2\n",
       "Name: Pub_Venue, dtype: int64"
      ]
     },
     "execution_count": 112,
     "metadata": {},
     "output_type": "execute_result"
    }
   ],
   "source": [
    "DF.groupby(['Bow Clus Label','Pub_Venue'])['Pub_Venue'].count().tail(50)"
   ]
  },
  {
   "cell_type": "markdown",
   "metadata": {
    "id": "4AbJ4F10l1GS"
   },
   "source": [
    "**Remarque:**\n",
    "*  cluster 0: SIGMOD Conference (243)\n",
    "*  cluster 1: Les revues qui apparaissent le plus fréquemment sont:  \n",
    "\n",
    "DAC (1787 articles ), IJCAI (1614 articles ),Electr. Notes Theor. Comput. Sci. (1523 articles ), ICCAD (1494 articles ), GECCO (1307 articles ) et Discrete Applied Mathematics (1284 articles ). \n",
    "\n",
    "Ce cluster regroupe des articles issus de différrents types de revues, ce qui pourrait remettre en cause le résultat de ce clustering.\n",
    "\n",
    "*  cluster 2: Electr. Notes Theor. Comput. Sci. (291 articles ) et IJCAI (211 articles )\n",
    "\n",
    "*  cluster 3: SIGMOD Conference (479 articles ) et SIGMOD Record (115 articles ) \n",
    "\n",
    "\n",
    "On voit qu'il y'a des clusters pour lesquels les revues dominantes se répètent. "
   ]
  },
  {
   "cell_type": "markdown",
   "metadata": {
    "id": "6WtKGixzmBI2"
   },
   "source": [
    "### Fréquence d'apparition des années de publication d'articles par cluster "
   ]
  },
  {
   "cell_type": "code",
   "execution_count": 113,
   "metadata": {
    "colab": {
     "base_uri": "https://localhost:8080/"
    },
    "id": "CitjOM9Zl3bG",
    "outputId": "257cd158-b07e-47f5-d018-03dd2e0f7473"
   },
   "outputs": [
    {
     "data": {
      "text/plain": [
       "Bow Clus Label  Year\n",
       "0               1979      2\n",
       "                1980      1\n",
       "                1981      3\n",
       "                1982      2\n",
       "                1983      4\n",
       "                1986      4\n",
       "                1987      6\n",
       "                1988      2\n",
       "                1989      3\n",
       "                1990      8\n",
       "                1991      2\n",
       "                1992      6\n",
       "                1993      7\n",
       "                1994      3\n",
       "                1995      7\n",
       "                1996      8\n",
       "                1997      5\n",
       "                1998     15\n",
       "                1999     11\n",
       "                2000     10\n",
       "                2001     13\n",
       "                2002     19\n",
       "                2003     15\n",
       "                2004     23\n",
       "                2005     14\n",
       "                2006     25\n",
       "                2007     18\n",
       "                2008     21\n",
       "                2009     24\n",
       "                2010     25\n",
       "1               1969     13\n",
       "                1971     19\n",
       "                1973     28\n",
       "                1975     58\n",
       "                1976      6\n",
       "                1977     46\n",
       "                1978      9\n",
       "                1979     11\n",
       "                1980     17\n",
       "                1981     69\n",
       "                1982     21\n",
       "                1983     81\n",
       "                1984     26\n",
       "                1985    126\n",
       "                1986     65\n",
       "                1987    182\n",
       "                1988     88\n",
       "                1989    251\n",
       "                1990    107\n",
       "                1991    133\n",
       "                1992    155\n",
       "                1993    151\n",
       "                1994    159\n",
       "                1995    326\n",
       "                1996    182\n",
       "                1997    338\n",
       "                1998    188\n",
       "                1999    373\n",
       "                2000    220\n",
       "                2001    408\n",
       "Name: Year, dtype: int64"
      ]
     },
     "execution_count": 113,
     "metadata": {},
     "output_type": "execute_result"
    }
   ],
   "source": [
    "DF.groupby(['Bow Clus Label','Year'])['Year'].count().head(60)"
   ]
  },
  {
   "cell_type": "code",
   "execution_count": 114,
   "metadata": {
    "colab": {
     "base_uri": "https://localhost:8080/"
    },
    "id": "A5skLdZomI51",
    "outputId": "91573e20-c442-44c1-ca9a-eab361560f60"
   },
   "outputs": [
    {
     "data": {
      "text/plain": [
       "Bow Clus Label  Year\n",
       "2               1988     17\n",
       "                1989     42\n",
       "                1990     15\n",
       "                1991     19\n",
       "                1992     16\n",
       "                1993     31\n",
       "                1994     14\n",
       "                1995     54\n",
       "                1996     14\n",
       "                1997     38\n",
       "                1998     38\n",
       "                1999     34\n",
       "                2000     24\n",
       "                2001     43\n",
       "                2002     49\n",
       "                2003    106\n",
       "                2004     69\n",
       "                2005    157\n",
       "                2006     96\n",
       "                2007    198\n",
       "                2008    174\n",
       "                2009    229\n",
       "                2010     38\n",
       "3               1973      1\n",
       "                1975     13\n",
       "                1976      6\n",
       "                1977      8\n",
       "                1978      5\n",
       "                1979      2\n",
       "                1980      4\n",
       "                1981      9\n",
       "                1982      9\n",
       "                1983     10\n",
       "                1984     10\n",
       "                1985      2\n",
       "                1986      9\n",
       "                1987     15\n",
       "                1988     12\n",
       "                1989     17\n",
       "                1990      7\n",
       "                1991      9\n",
       "                1992     13\n",
       "                1993     19\n",
       "                1994     15\n",
       "                1995     23\n",
       "                1996     14\n",
       "                1997     34\n",
       "                1998     29\n",
       "                1999     43\n",
       "                2000     48\n",
       "                2001     47\n",
       "                2002     58\n",
       "                2003    101\n",
       "                2004     71\n",
       "                2005    109\n",
       "                2006    102\n",
       "                2007    136\n",
       "                2008    110\n",
       "                2009    230\n",
       "                2010     65\n",
       "Name: Year, dtype: int64"
      ]
     },
     "execution_count": 114,
     "metadata": {},
     "output_type": "execute_result"
    }
   ],
   "source": [
    "DF.groupby(['Bow Clus Label','Year'])['Year'].count().tail(60)"
   ]
  },
  {
   "cell_type": "markdown",
   "metadata": {
    "id": "D_DW-OYXHLEM"
   },
   "source": [
    "**La classification des documents en utilisant un kmeans sur la matrice entité-document n'a pas donné de résultats significatifs, comparé au clustering sur la matrice documents-terms.**\n",
    "\n"
   ]
  },
  {
   "cell_type": "code",
   "execution_count": null,
   "metadata": {
    "id": "XRJWSigot9An"
   },
   "outputs": [],
   "source": []
  },
  {
   "cell_type": "code",
   "execution_count": null,
   "metadata": {
    "id": "qhivHte7t8yO"
   },
   "outputs": [],
   "source": []
  },
  {
   "cell_type": "markdown",
   "metadata": {
    "id": "PSsLRuHht9vT"
   },
   "source": [
    "# Spherical kmeans "
   ]
  },
  {
   "cell_type": "code",
   "execution_count": 118,
   "metadata": {
    "colab": {
     "base_uri": "https://localhost:8080/"
    },
    "id": "RQ40k6hiuBIT",
    "outputId": "c398701f-79b3-476a-ee0b-b6dd647184e0"
   },
   "outputs": [
    {
     "data": {
      "text/plain": [
       "<17633x1000 sparse matrix of type '<class 'numpy.int64'>'\n",
       "\twith 251993 stored elements in Compressed Sparse Row format>"
      ]
     },
     "execution_count": 118,
     "metadata": {},
     "output_type": "execute_result"
    }
   ],
   "source": [
    "# spherical kmeans vectorizer\n",
    "vectorizer = CountVectorizer(max_features=1000)\n",
    "MatEntityDoc1 = vectorizer.fit_transform(list_entity)\n",
    "MatEntityDoc1"
   ]
  },
  {
   "cell_type": "code",
   "execution_count": 125,
   "metadata": {
    "colab": {
     "base_uri": "https://localhost:8080/"
    },
    "id": "ERXwyCVN1zRl",
    "outputId": "190a9dad-0ce8-48ff-9c13-664425f67f33"
   },
   "outputs": [
    {
     "name": "stdout",
     "output_type": "stream",
     "text": [
      " == New init == \n",
      "iteration: 0\n",
      "3019.419546456198\n",
      "iteration: 1\n",
      "3416.168105066581\n",
      "iteration: 2\n",
      "3604.536482999103\n",
      "iteration: 3\n",
      "3663.9316829622812\n",
      "iteration: 4\n",
      "3683.5250218672118\n",
      "iteration: 5\n",
      "3694.4092886746093\n",
      "iteration: 6\n",
      "3701.5178251396246\n",
      "iteration: 7\n",
      "3707.850864178645\n",
      "iteration: 8\n",
      "3713.845181751737\n",
      "iteration: 9\n",
      "3718.7059208673904\n",
      "iteration: 10\n",
      "3721.6913763811517\n",
      "iteration: 11\n",
      "3723.2373416808077\n",
      "iteration: 12\n",
      "3724.022844938051\n",
      "iteration: 13\n",
      "3724.588922279624\n",
      "iteration: 14\n",
      "3725.0468843540666\n",
      "iteration: 15\n",
      "3725.429566008847\n",
      "iteration: 16\n",
      "3725.852719235444\n",
      "iteration: 17\n",
      "3726.333262506938\n",
      "iteration: 18\n",
      "3726.9020310220612\n",
      "iteration: 19\n",
      "3727.412031533853\n"
     ]
    }
   ],
   "source": [
    "Skm = SphericalKmeans(n_clusters=4, max_iter=20, n_init=1,random_state=0)\n",
    "Skmean = Skm.fit(MatEntityDoc1)"
   ]
  },
  {
   "cell_type": "code",
   "execution_count": 126,
   "metadata": {
    "id": "oE4CC_4D4JZ4"
   },
   "outputs": [],
   "source": [
    "skm_labels= Skm.labels_"
   ]
  },
  {
   "cell_type": "code",
   "execution_count": 129,
   "metadata": {
    "colab": {
     "base_uri": "https://localhost:8080/",
     "height": 196
    },
    "id": "SVXy5Bvs3WNS",
    "outputId": "8b6489b3-22c5-4f0e-e98d-fad7ed001a7d"
   },
   "outputs": [
    {
     "data": {
      "text/html": [
       "<div>\n",
       "<style scoped>\n",
       "    .dataframe tbody tr th:only-of-type {\n",
       "        vertical-align: middle;\n",
       "    }\n",
       "\n",
       "    .dataframe tbody tr th {\n",
       "        vertical-align: top;\n",
       "    }\n",
       "\n",
       "    .dataframe thead th {\n",
       "        text-align: right;\n",
       "    }\n",
       "</style>\n",
       "<table border=\"1\" class=\"dataframe\">\n",
       "  <thead>\n",
       "    <tr style=\"text-align: right;\">\n",
       "      <th></th>\n",
       "      <th>Pub_Venue</th>\n",
       "      <th>Year</th>\n",
       "      <th>Authors</th>\n",
       "      <th>Title</th>\n",
       "      <th>Index</th>\n",
       "      <th>Id</th>\n",
       "      <th>Abstract</th>\n",
       "      <th>Bow Clus Label</th>\n",
       "    </tr>\n",
       "  </thead>\n",
       "  <tbody>\n",
       "    <tr>\n",
       "      <th>0</th>\n",
       "      <td>DAC</td>\n",
       "      <td>1988</td>\n",
       "      <td>['Chung-Kuan Cheng', 'David N. Deutsch']</td>\n",
       "      <td>Improved Channel Routing by Via Minimization a...</td>\n",
       "      <td>131751</td>\n",
       "      <td>['133716', '133521', '134343']</td>\n",
       "      <td>channel routing area improvement mean via mini...</td>\n",
       "      <td>1</td>\n",
       "    </tr>\n",
       "    <tr>\n",
       "      <th>1</th>\n",
       "      <td>DAC</td>\n",
       "      <td>2006</td>\n",
       "      <td>['Lei Cheng', 'Liang Deng', 'Deming Chen', 'Ma...</td>\n",
       "      <td>A fast simultaneous input vector generation an...</td>\n",
       "      <td>131752</td>\n",
       "      <td>['132550', '530568', '436486', '134259', '2830...</td>\n",
       "      <td>input vector control ivc technique observation...</td>\n",
       "      <td>1</td>\n",
       "    </tr>\n",
       "  </tbody>\n",
       "</table>\n",
       "</div>"
      ],
      "text/plain": [
       "  Pub_Venue  ...  Bow Clus Label\n",
       "0       DAC  ...               1\n",
       "1       DAC  ...               1\n",
       "\n",
       "[2 rows x 8 columns]"
      ]
     },
     "execution_count": 129,
     "metadata": {},
     "output_type": "execute_result"
    }
   ],
   "source": [
    "# assigner un cluster à chaque abstract ( sorte de label)\n",
    "DF['Bow Clus Label'] = skm_labels  \n",
    "DF.head(2)"
   ]
  },
  {
   "cell_type": "markdown",
   "metadata": {
    "id": "RYnZVs8V6Usp"
   },
   "source": [
    "## Evaluation des résultats du clustering "
   ]
  },
  {
   "cell_type": "markdown",
   "metadata": {
    "id": "xKX51cNe6azW"
   },
   "source": [
    "### Visualiser la distribution des articles à travers les clusters "
   ]
  },
  {
   "cell_type": "code",
   "execution_count": 130,
   "metadata": {
    "colab": {
     "base_uri": "https://localhost:8080/"
    },
    "id": "Ltr9EbtY6aJa",
    "outputId": "3e9a8d72-34ca-4379-d99f-c3cdb70d13b3"
   },
   "outputs": [
    {
     "data": {
      "text/plain": [
       "Bow Clus Label\n",
       "0    4251\n",
       "1    5421\n",
       "2    2641\n",
       "3    5320\n",
       "Name: Title, dtype: int64"
      ]
     },
     "execution_count": 130,
     "metadata": {},
     "output_type": "execute_result"
    }
   ],
   "source": [
    "# Combien d'articles appartiennent à chaque cluster\n",
    "DF.groupby(['Bow Clus Label'])['Title'].count()"
   ]
  },
  {
   "cell_type": "code",
   "execution_count": 131,
   "metadata": {
    "colab": {
     "base_uri": "https://localhost:8080/",
     "height": 295
    },
    "id": "0qJMOOEl7HBT",
    "outputId": "1158b937-274c-42f3-a2dc-e68d1b08fd29"
   },
   "outputs": [
    {
     "data": {
      "image/png": "[encoded data removed]",
      "text/plain": [
       "<Figure size 432x288 with 1 Axes>"
      ]
     },
     "metadata": {
      "needs_background": "light"
     },
     "output_type": "display_data"
    }
   ],
   "source": [
    "#visualiser comment les articles sont distribués à travers les 4 clusters \n",
    "\n",
    "plt.bar([x for x in range(4)], DF.groupby(['Bow Clus Label'])['Abstract'].count(), alpha = 0.4)\n",
    "plt.title('KMeans cluster points')\n",
    "plt.xlabel(\"Numéro du cluster\")\n",
    "plt.ylabel(\"Nombre d'articles \")\n",
    "plt.show()"
   ]
  },
  {
   "cell_type": "markdown",
   "metadata": {
    "id": "S0gcmL4q7JUT"
   },
   "source": [
    "**Remarque**\n",
    "*  On remarque que la distribution des documents à travers les clusters en utilisant le spherical kmeans  est plus uniforme qu'avec le kmeans classique."
   ]
  },
  {
   "cell_type": "markdown",
   "metadata": {
    "id": "THYKvwjA6qkz"
   },
   "source": [
    "### Distribution des clusters par revues "
   ]
  },
  {
   "cell_type": "code",
   "execution_count": 164,
   "metadata": {
    "colab": {
     "base_uri": "https://localhost:8080/"
    },
    "id": "Y09Cr4tC6tb6",
    "outputId": "b6461f5e-afba-4809-f90c-0030cfaa5d82"
   },
   "outputs": [
    {
     "data": {
      "text/plain": [
       "Pub_Venue                          Bow Clus Label\n",
       "DAC                                0                  206\n",
       "                                   1                 1287\n",
       "                                   2                  164\n",
       "                                   3                  374\n",
       "DAGM-Symposium                     0                   15\n",
       "                                   1                   29\n",
       "                                   2                    5\n",
       "                                   3                   19\n",
       "DATA BASE                          0                   11\n",
       "                                   1                   20\n",
       "                                   2                   34\n",
       "                                   3                  149\n",
       "Data Min. Knowl. Discov.           0                   33\n",
       "                                   1                   22\n",
       "                                   2                   49\n",
       "                                   3                   77\n",
       "Des. Codes Cryptography            0                  517\n",
       "                                   1                   54\n",
       "                                   2                   10\n",
       "                                   3                   67\n",
       "Discrete Applied Mathematics       0                 1088\n",
       "                                   1                  123\n",
       "                                   2                   47\n",
       "                                   3                   77\n",
       "Distributed Computing              0                   72\n",
       "                                   1                   34\n",
       "                                   2                   15\n",
       "                                   3                  103\n",
       "Electr. Notes Theor. Comput. Sci.  0                  328\n",
       "                                   1                  295\n",
       "                                   2                  356\n",
       "                                   3                  930\n",
       "GECCO                              0                  572\n",
       "                                   1                  525\n",
       "                                   2                   90\n",
       "                                   3                  285\n",
       "GECCO (Companion)                  0                   82\n",
       "                                   1                   95\n",
       "                                   2                   15\n",
       "                                   3                   77\n",
       "GECCO Workshops                    0                   17\n",
       "                                   1                   22\n",
       "                                   2                    3\n",
       "                                   3                   24\n",
       "ICC                                0                  114\n",
       "                                   1                  237\n",
       "                                   2                   17\n",
       "                                   3                  219\n",
       "ICCAD                              0                  176\n",
       "                                   1                 1240\n",
       "                                   2                   79\n",
       "                                   3                  171\n",
       "ICCBR                              0                   34\n",
       "                                   1                    4\n",
       "                                   2                    4\n",
       "                                   3                   29\n",
       "ICCE                               0                    3\n",
       "Name: Pub_Venue, dtype: int64"
      ]
     },
     "execution_count": 164,
     "metadata": {},
     "output_type": "execute_result"
    }
   ],
   "source": [
    "DF.groupby(['Pub_Venue','Bow Clus Label'])['Pub_Venue'].count().head(57)"
   ]
  },
  {
   "cell_type": "code",
   "execution_count": 162,
   "metadata": {
    "colab": {
     "base_uri": "https://localhost:8080/"
    },
    "id": "PCuWaPeGAxAL",
    "outputId": "f34d1aae-b192-4cee-b53c-4cd32f55e1f3"
   },
   "outputs": [
    {
     "data": {
      "text/plain": [
       "Pub_Venue                        Bow Clus Label\n",
       "ICCBR                            0                  34\n",
       "                                 1                   4\n",
       "                                 2                   4\n",
       "                                 3                  29\n",
       "ICCE                             0                   3\n",
       "                                 1                   3\n",
       "                                 2                   2\n",
       "                                 3                  47\n",
       "ICCSA (1)                        0                  33\n",
       "                                 1                  39\n",
       "                                 2                  25\n",
       "                                 3                  55\n",
       "ICCSA (2)                        0                  17\n",
       "                                 1                  54\n",
       "                                 2                  13\n",
       "                                 3                  61\n",
       "ICCSA (3)                        0                  38\n",
       "                                 1                  41\n",
       "                                 2                  12\n",
       "                                 3                  53\n",
       "ICCV                             0                  11\n",
       "                                 1                  53\n",
       "                                 2                   4\n",
       "                                 3                   8\n",
       "ICIP                             0                 101\n",
       "                                 1                 510\n",
       "                                 2                  55\n",
       "                                 3                 146\n",
       "IJCAI                            0                 434\n",
       "                                 1                 332\n",
       "                                 2                 247\n",
       "                                 3                 892\n",
       "IJCAI (1)                        0                  13\n",
       "                                 1                  17\n",
       "                                 2                   9\n",
       "                                 3                  44\n",
       "Journal of Systems and Software  0                  81\n",
       "                                 1                 136\n",
       "                                 2                 120\n",
       "                                 3                 579\n",
       "Knowl. Inf. Syst.                0                   9\n",
       "                                 1                  10\n",
       "                                 2                  12\n",
       "                                 3                  38\n",
       "SIGMOD Conference                0                 127\n",
       "                                 1                  89\n",
       "                                 2                 985\n",
       "                                 3                 426\n",
       "SIGMOD Record                    0                  26\n",
       "                                 1                  32\n",
       "                                 2                 232\n",
       "                                 3                 220\n",
       "SMC                              0                  36\n",
       "                                 1                 114\n",
       "                                 2                  29\n",
       "                                 3                 146\n",
       "STOC                             0                  57\n",
       "                                 1                   4\n",
       "                                 2                   8\n",
       "                                 3                   4\n",
       "Name: Pub_Venue, dtype: int64"
      ]
     },
     "execution_count": 162,
     "metadata": {},
     "output_type": "execute_result"
    }
   ],
   "source": [
    "DF.groupby(['Pub_Venue','Bow Clus Label'])['Pub_Venue'].count().tail(60)"
   ]
  },
  {
   "cell_type": "code",
   "execution_count": 172,
   "metadata": {
    "colab": {
     "base_uri": "https://localhost:8080/"
    },
    "id": "_VzwFYDhItNa",
    "outputId": "b9b59756-6308-4d44-dfbe-8bda1151ddd1"
   },
   "outputs": [
    {
     "data": {
      "text/plain": [
       "Pub_Venue\n",
       "DAC                                  2031\n",
       "DAGM-Symposium                         68\n",
       "DATA BASE                             214\n",
       "Data Min. Knowl. Discov.              181\n",
       "Des. Codes Cryptography               648\n",
       "Discrete Applied Mathematics         1335\n",
       "Distributed Computing                 224\n",
       "Electr. Notes Theor. Comput. Sci.    1909\n",
       "GECCO                                1472\n",
       "GECCO (Companion)                     269\n",
       "GECCO Workshops                        66\n",
       "ICC                                   587\n",
       "ICCAD                                1666\n",
       "ICCBR                                  71\n",
       "ICCE                                   55\n",
       "ICCSA (1)                             152\n",
       "ICCSA (2)                             145\n",
       "ICCSA (3)                             144\n",
       "ICCV                                   76\n",
       "ICIP                                  812\n",
       "IJCAI                                1905\n",
       "IJCAI (1)                              83\n",
       "Journal of Systems and Software       916\n",
       "Knowl. Inf. Syst.                      69\n",
       "SIGMOD Conference                    1627\n",
       "SIGMOD Record                         510\n",
       "SMC                                   325\n",
       "STOC                                   73\n",
       "Name: Bow Clus Label, dtype: int64"
      ]
     },
     "execution_count": 172,
     "metadata": {},
     "output_type": "execute_result"
    }
   ],
   "source": [
    "DF.groupby(['Pub_Venue'])['Bow Clus Label'].count()"
   ]
  },
  {
   "cell_type": "markdown",
   "metadata": {
    "id": "hQtKRH8E6t72"
   },
   "source": [
    "### Fréquence d'apparition de chaque revue par cluster "
   ]
  },
  {
   "cell_type": "code",
   "execution_count": 148,
   "metadata": {
    "colab": {
     "base_uri": "https://localhost:8080/"
    },
    "id": "3MciNezz6y99",
    "outputId": "d8fec605-3f76-4c4f-b40c-b70bc4b73f14"
   },
   "outputs": [
    {
     "data": {
      "text/plain": [
       "Bow Clus Label  Pub_Venue                        \n",
       "0               DAC                                   206\n",
       "                DAGM-Symposium                         15\n",
       "                DATA BASE                              11\n",
       "                Data Min. Knowl. Discov.               33\n",
       "                Des. Codes Cryptography               517\n",
       "                Discrete Applied Mathematics         1088\n",
       "                Distributed Computing                  72\n",
       "                Electr. Notes Theor. Comput. Sci.     328\n",
       "                GECCO                                 572\n",
       "                GECCO (Companion)                      82\n",
       "                GECCO Workshops                        17\n",
       "                ICC                                   114\n",
       "                ICCAD                                 176\n",
       "                ICCBR                                  34\n",
       "                ICCE                                    3\n",
       "                ICCSA (1)                              33\n",
       "                ICCSA (2)                              17\n",
       "                ICCSA (3)                              38\n",
       "                ICCV                                   11\n",
       "                ICIP                                  101\n",
       "                IJCAI                                 434\n",
       "                IJCAI (1)                              13\n",
       "                Journal of Systems and Software        81\n",
       "                Knowl. Inf. Syst.                       9\n",
       "                SIGMOD Conference                     127\n",
       "                SIGMOD Record                          26\n",
       "                SMC                                    36\n",
       "                STOC                                   57\n",
       "1               DAC                                  1287\n",
       "                DAGM-Symposium                         29\n",
       "                DATA BASE                              20\n",
       "                Data Min. Knowl. Discov.               22\n",
       "                Des. Codes Cryptography                54\n",
       "                Discrete Applied Mathematics          123\n",
       "                Distributed Computing                  34\n",
       "                Electr. Notes Theor. Comput. Sci.     295\n",
       "                GECCO                                 525\n",
       "                GECCO (Companion)                      95\n",
       "                GECCO Workshops                        22\n",
       "                ICC                                   237\n",
       "                ICCAD                                1240\n",
       "                ICCBR                                   4\n",
       "                ICCE                                    3\n",
       "                ICCSA (1)                              39\n",
       "                ICCSA (2)                              54\n",
       "                ICCSA (3)                              41\n",
       "                ICCV                                   53\n",
       "                ICIP                                  510\n",
       "                IJCAI                                 332\n",
       "                IJCAI (1)                              17\n",
       "Name: Pub_Venue, dtype: int64"
      ]
     },
     "execution_count": 148,
     "metadata": {},
     "output_type": "execute_result"
    }
   ],
   "source": [
    "DF.groupby(['Bow Clus Label','Pub_Venue'])['Pub_Venue'].count().head(50)"
   ]
  },
  {
   "cell_type": "code",
   "execution_count": 165,
   "metadata": {
    "colab": {
     "base_uri": "https://localhost:8080/"
    },
    "id": "EAVtVwqZBV7a",
    "outputId": "bdba9622-5dd1-47f7-fed5-4bb8bc730291"
   },
   "outputs": [
    {
     "data": {
      "text/plain": [
       "Bow Clus Label  Pub_Venue                        \n",
       "2               Distributed Computing                 15\n",
       "                Electr. Notes Theor. Comput. Sci.    356\n",
       "                GECCO                                 90\n",
       "                GECCO (Companion)                     15\n",
       "                GECCO Workshops                        3\n",
       "                ICC                                   17\n",
       "                ICCAD                                 79\n",
       "                ICCBR                                  4\n",
       "                ICCE                                   2\n",
       "                ICCSA (1)                             25\n",
       "                ICCSA (2)                             13\n",
       "                ICCSA (3)                             12\n",
       "                ICCV                                   4\n",
       "                ICIP                                  55\n",
       "                IJCAI                                247\n",
       "                IJCAI (1)                              9\n",
       "                Journal of Systems and Software      120\n",
       "                Knowl. Inf. Syst.                     12\n",
       "                SIGMOD Conference                    985\n",
       "                SIGMOD Record                        232\n",
       "                SMC                                   29\n",
       "                STOC                                   8\n",
       "3               DAC                                  374\n",
       "                DAGM-Symposium                        19\n",
       "                DATA BASE                            149\n",
       "                Data Min. Knowl. Discov.              77\n",
       "                Des. Codes Cryptography               67\n",
       "                Discrete Applied Mathematics          77\n",
       "                Distributed Computing                103\n",
       "                Electr. Notes Theor. Comput. Sci.    930\n",
       "                GECCO                                285\n",
       "                GECCO (Companion)                     77\n",
       "                GECCO Workshops                       24\n",
       "                ICC                                  219\n",
       "                ICCAD                                171\n",
       "                ICCBR                                 29\n",
       "                ICCE                                  47\n",
       "                ICCSA (1)                             55\n",
       "                ICCSA (2)                             61\n",
       "                ICCSA (3)                             53\n",
       "                ICCV                                   8\n",
       "                ICIP                                 146\n",
       "                IJCAI                                892\n",
       "                IJCAI (1)                             44\n",
       "                Journal of Systems and Software      579\n",
       "                Knowl. Inf. Syst.                     38\n",
       "                SIGMOD Conference                    426\n",
       "                SIGMOD Record                        220\n",
       "                SMC                                  146\n",
       "                STOC                                   4\n",
       "Name: Pub_Venue, dtype: int64"
      ]
     },
     "execution_count": 165,
     "metadata": {},
     "output_type": "execute_result"
    }
   ],
   "source": [
    "DF.groupby(['Bow Clus Label','Pub_Venue'])['Pub_Venue'].count().tail(50)"
   ]
  },
  {
   "cell_type": "markdown",
   "metadata": {
    "id": "H9Gro2KXAMua"
   },
   "source": [
    "**Remarque:**\n",
    "*  cluster 0: la majorité des articles de cette classe sont issue de la revue Discrete Applied Mathematics (1088 articles).\n",
    "\n",
    "*  cluster 1: la revue majoritaire présente dans ce cluster est DAC avec 1287 articles, suivi de ICCAD avec 1240 articles. \n",
    "\n",
    "*  cluster 2: la revue majoritaire est SIGMOD Conference avec 985 articles.\n",
    "\n",
    "*  cluster 3: la revue majoritaire est Electr. Notes Theor. Comput. Sci.  avec 930 articles, suivi de  IJCAI avec 892 articles.\n",
    "\n",
    "On remarque que ces clusters sont similaires aux résultats de clustering obtenus en utilisant le kmeans sur la matrice TF-IDF et le Spherical kmeans sur la matrice BOW.\n",
    "\n",
    "Le spherical kmeans donne une meilleure répartition des articles dans les clusters.\n",
    "\n",
    "On peut donc conclure que les clusters sont construits selon le type des revues."
   ]
  },
  {
   "cell_type": "code",
   "execution_count": null,
   "metadata": {
    "id": "0KWEB6gERFlb"
   },
   "outputs": [],
   "source": []
  },
  {
   "cell_type": "markdown",
   "metadata": {
    "id": "3D4LNxisQ_cs"
   },
   "source": [
    "\n",
    "# Conclusion\n",
    "\n",
    "> Après les différentes expérimentations menées sur les abstracts des documents, nous pouvons dire que le meilleur modèle pour la classification textuelle a été le spherical kmeans et ce sur les différentes matrices représentant les documents.    \n",
    "\n",
    "> De plus le fait que les documents traitent tous des thèmatiques relativement proches rend la tâche de classification plus complexe. "
   ]
  },
  {
   "cell_type": "code",
   "execution_count": null,
   "metadata": {
    "id": "fgRe9vRyRszo"
   },
   "outputs": [],
   "source": []
  }
 ],
 "metadata": {
  "accelerator": "GPU",
  "colab": {
   "collapsed_sections": [],
   "name": "Projet BI_ Partie Analyse de texte et Clustering 2.ipynb",
   "provenance": [],
   "toc_visible": true
  },
  "kernelspec": {
   "display_name": "Python 3",
   "language": "python",
   "name": "python3"
  },
  "language_info": {
   "codemirror_mode": {
    "name": "ipython",
    "version": 3
   },
   "file_extension": ".py",
   "mimetype": "text/x-python",
   "name": "python",
   "nbconvert_exporter": "python",
   "pygments_lexer": "ipython3",
   "version": "3.8.8"
  }
 },
 "nbformat": 4,
 "nbformat_minor": 1
}
