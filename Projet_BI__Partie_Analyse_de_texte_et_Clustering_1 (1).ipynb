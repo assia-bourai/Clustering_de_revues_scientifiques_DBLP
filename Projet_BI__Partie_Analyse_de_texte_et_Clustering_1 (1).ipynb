{
 "cells": [
  {
   "cell_type": "markdown",
   "metadata": {
    "id": "hdXd3rdseE0e"
   },
   "source": [
    "**Notebook dédié à:** \n",
    "\n",
    "* l'analyse textuelle des abstracts\n",
    "* la contruction de la matrice Document-Termes (Bag Of Words) \n",
    "* la construction de la matrice TF-IDF\n",
    "* l'entrainement des modèles Kmeans et spherical kmeans sur ces deux matrices. "
   ]
  },
  {
   "cell_type": "markdown",
   "metadata": {
    "id": "lZbkejP_flru"
   },
   "source": [
    "# Importer les librairies "
   ]
  },
  {
   "cell_type": "code",
   "execution_count": null,
   "metadata": {
    "id": "_Z10_D4kfqLs"
   },
   "outputs": [],
   "source": [
    "import pandas as pd\n",
    "import numpy as np\n",
    "import matplotlib.pyplot as plt\n",
    "import seaborn as sns\n",
    "%matplotlib inline\n",
    "\n",
    "import nltk\n",
    "#nltk.download()\n",
    "from nltk.corpus import stopwords\n",
    "from nltk.stem import WordNetLemmatizer\n",
    "from sklearn import metrics\n",
    "from sklearn.cluster import KMeans\n",
    "import re\n",
    "from sklearn.metrics.pairwise import cosine_similarity\n",
    "from sklearn.feature_extraction.text import CountVectorizer\n",
    "from scipy import  sparse\n",
    "from wordcloud import WordCloud \n",
    "\n",
    "from sklearn.feature_extraction.text import TfidfVectorizer\n",
    "from sklearn.cluster import KMeans\n",
    "from sklearn.decomposition import TruncatedSVD\n",
    "from scipy.sparse import csr_matrix\n"
   ]
  },
  {
   "cell_type": "code",
   "execution_count": null,
   "metadata": {
    "colab": {
     "base_uri": "https://localhost:8080/"
    },
    "id": "pGASI52krJ2f",
    "outputId": "1691484e-92bb-4073-f708-3a00aab754c9"
   },
   "outputs": [
    {
     "name": "stdout",
     "output_type": "stream",
     "text": [
      "Collecting coclust\n",
      "  Downloading coclust-0.2.1.tar.gz (21 kB)\n",
      "Requirement already satisfied: numpy in /usr/local/lib/python3.7/dist-packages (from coclust) (1.19.5)\n",
      "Requirement already satisfied: scipy in /usr/local/lib/python3.7/dist-packages (from coclust) (1.4.1)\n",
      "Requirement already satisfied: scikit-learn in /usr/local/lib/python3.7/dist-packages (from coclust) (0.22.2.post1)\n",
      "Requirement already satisfied: joblib>=0.11 in /usr/local/lib/python3.7/dist-packages (from scikit-learn->coclust) (1.1.0)\n",
      "Building wheels for collected packages: coclust\n",
      "  Building wheel for coclust (setup.py) ... \u001b[?25l\u001b[?25hdone\n",
      "  Created wheel for coclust: filename=coclust-0.2.1-py3-none-any.whl size=29870 sha256=d520f3f971921143d7e5272e1a4dbb9e127fa055aaa8e55a04accb887c0701be\n",
      "  Stored in directory: /root/.cache/pip/wheels/78/e9/dc/3f80429511bb4aa68ebf39a0f141661230809490d53557ce4a\n",
      "Successfully built coclust\n",
      "Installing collected packages: coclust\n",
      "Successfully installed coclust-0.2.1\n"
     ]
    }
   ],
   "source": [
    "pip install coclust"
   ]
  },
  {
   "cell_type": "code",
   "execution_count": null,
   "metadata": {
    "id": "pEO2Fucgq_b2"
   },
   "outputs": [],
   "source": [
    "import coclust\n",
    "\n",
    "from coclust.clustering import SphericalKmeans\n"
   ]
  },
  {
   "cell_type": "markdown",
   "metadata": {
    "id": "PSfHmEzhf6d3"
   },
   "source": [
    "# Importer les données "
   ]
  },
  {
   "cell_type": "code",
   "execution_count": null,
   "metadata": {
    "colab": {
     "base_uri": "https://localhost:8080/"
    },
    "id": "n6bJAT59XMli",
    "outputId": "9b8b68b8-8f06-4da3-e379-c9a4818f9469"
   },
   "outputs": [
    {
     "name": "stdout",
     "output_type": "stream",
     "text": [
      "Mounted at /content/drive\n"
     ]
    }
   ],
   "source": [
    "from google.colab import drive\n",
    "drive.mount('/content/drive')"
   ]
  },
  {
   "cell_type": "code",
   "execution_count": null,
   "metadata": {
    "id": "a0e8EpiJf9xf"
   },
   "outputs": [],
   "source": [
    "DF=pd.read_csv('/content/drive/MyDrive/Colab Notebooks/DBLP_Subset_processed.txt')"
   ]
  },
  {
   "cell_type": "code",
   "execution_count": null,
   "metadata": {
    "id": "pj7Caz_diAUF"
   },
   "outputs": [],
   "source": [
    "abstract_lemmatized = DF['Abstract']"
   ]
  },
  {
   "cell_type": "markdown",
   "metadata": {
    "id": "3to8-Of9iSn6"
   },
   "source": [
    "# Matrice Document-Terme ( Bag Of Words)"
   ]
  },
  {
   "cell_type": "code",
   "execution_count": null,
   "metadata": {
    "id": "wfMJfUwliTS6"
   },
   "outputs": [],
   "source": [
    "#BOW Vectorizer \n",
    "vectorizer = CountVectorizer(max_features=1000)\n",
    "DocTerm_abstract = vectorizer.fit_transform(abstract_lemmatized)\n",
    "#print('DocTerm_text ', type(DocTerm_text))\n",
    "\n",
    "#DocTerm_abstract=csr_matrix(DocTerm_abstract)\n",
    "#DocTerm_abstract = DocTerm_abstract.tocsr()\n",
    "\n",
    "\n",
    "#convertir la matrice sparse en matrice dense\n",
    "DocTerm_abstract = DocTerm_abstract.toarray()\n",
    "#print('DocTerm_text ', type(DocTerm_text))\n"
   ]
  },
  {
   "cell_type": "markdown",
   "metadata": {
    "id": "0jLpdyLnZP5D"
   },
   "source": [
    "*   **Remarque:**\n",
    "\n",
    "Nous avons remarqué que les résultats du clustering avec la matrice BOW n'étaient pas très satisfaisants (lors de l'analyse du top 10 des termes les plus fréquents dans chaque cluster), d'où l'utilisation de la matrice TF-IDF."
   ]
  },
  {
   "cell_type": "markdown",
   "metadata": {
    "id": "zrjZnKN_gsNh"
   },
   "source": [
    "# Matrice TF-IDF"
   ]
  },
  {
   "cell_type": "code",
   "execution_count": null,
   "metadata": {
    "colab": {
     "base_uri": "https://localhost:8080/"
    },
    "id": "-jTRJnwFWivb",
    "outputId": "47517651-87a3-476b-a962-84d9dc9d72c8"
   },
   "outputs": [
    {
     "name": "stdout",
     "output_type": "stream",
     "text": [
      "(17633, 51524)\n"
     ]
    }
   ],
   "source": [
    "TFIDF_vectorizer = TfidfVectorizer()\n",
    "TFIDF_abstract = TFIDF_vectorizer.fit_transform(abstract_lemmatized)\n",
    "print(TFIDF_abstract.shape)"
   ]
  },
  {
   "cell_type": "code",
   "execution_count": null,
   "metadata": {
    "colab": {
     "base_uri": "https://localhost:8080/"
    },
    "id": "36IzTycLiVwJ",
    "outputId": "87646f6a-3c0d-4ebd-abe4-5bde30ad8743"
   },
   "outputs": [
    {
     "data": {
      "text/plain": [
       "<17633x51524 sparse matrix of type '<class 'numpy.float64'>'\n",
       "\twith 934932 stored elements in Compressed Sparse Row format>"
      ]
     },
     "execution_count": 11,
     "metadata": {},
     "output_type": "execute_result"
    }
   ],
   "source": [
    "TFIDF_abstract"
   ]
  },
  {
   "cell_type": "markdown",
   "metadata": {
    "id": "GXd8lyUxfKxc"
   },
   "source": [
    "# Matrice Document-auteur "
   ]
  },
  {
   "cell_type": "code",
   "execution_count": null,
   "metadata": {
    "id": "woA1_ogZfPtJ"
   },
   "outputs": [],
   "source": [
    "def splitauthor(authors):\n",
    "  temp = authors.lower()\n",
    "  splitted_authors = []\n",
    "  for author in temp.split(\",\"):\n",
    "    to_rem=\"'[]\"\n",
    "    for car in author:\n",
    "      #print(car)\n",
    "      if car==\"'\"or car=='[' or car==']' :\n",
    "        #print('yes')\n",
    "        author=author.replace(car,'')\n",
    "\n",
    "    splitted_authors.append(author.strip())\n",
    "  return splitted_authors\n",
    "  \n",
    "DF[\"splitted_authors\"] = DF[\"Authors\"].apply(splitauthor)"
   ]
  },
  {
   "cell_type": "code",
   "execution_count": null,
   "metadata": {
    "id": "lQoPUYLjfPgh"
   },
   "outputs": [],
   "source": [
    "all_authors = []\n",
    "for list in DF['splitted_authors']:\n",
    "  \n",
    "  for author in list:\n",
    "    #print(author)\n",
    "    if author not in all_authors:\n",
    "      all_authors.append(author.strip())"
   ]
  },
  {
   "cell_type": "code",
   "execution_count": null,
   "metadata": {
    "id": "3gFhtXDTfbg-"
   },
   "outputs": [],
   "source": [
    "matricedocumentsauteurs = np.zeros((len(DF), len(all_authors)), dtype=int)\n",
    "author_map = {x:i for i,x in enumerate(all_authors)}\n",
    "author_map\n",
    "\n",
    "for index, row in DF.reset_index().iterrows():\n",
    "  for author in row[\"splitted_authors\"]:\n",
    "    matricedocumentsauteurs[index, author_map[author]] = 1"
   ]
  },
  {
   "cell_type": "code",
   "execution_count": null,
   "metadata": {
    "colab": {
     "base_uri": "https://localhost:8080/"
    },
    "id": "3u3dE-hqfeW1",
    "outputId": "22eaf5cb-9896-4ef0-d0fc-9f7ba3b487c5"
   },
   "outputs": [
    {
     "data": {
      "text/plain": [
       "array([[1, 1, 0, ..., 0, 0, 0],\n",
       "       [0, 0, 1, ..., 0, 0, 0],\n",
       "       [0, 0, 0, ..., 0, 0, 0],\n",
       "       ...,\n",
       "       [0, 0, 0, ..., 1, 1, 0],\n",
       "       [0, 0, 0, ..., 0, 0, 0],\n",
       "       [0, 0, 0, ..., 0, 0, 1]])"
      ]
     },
     "execution_count": 35,
     "metadata": {},
     "output_type": "execute_result"
    }
   ],
   "source": [
    "matricedocumentsauteurs"
   ]
  },
  {
   "cell_type": "markdown",
   "metadata": {
    "id": "-b0F5NS9i4Fh"
   },
   "source": [
    "# Kmeans sur la matrice BOW"
   ]
  },
  {
   "cell_type": "markdown",
   "metadata": {
    "id": "WRGDMqUJxCpm"
   },
   "source": [
    "## Déterminer le nombre de clusters optimal en utilisant la methode Elbow "
   ]
  },
  {
   "cell_type": "code",
   "execution_count": null,
   "metadata": {
    "colab": {
     "base_uri": "https://localhost:8080/",
     "height": 295
    },
    "id": "OiUaluh-xA6O",
    "outputId": "efe1e53a-a082-4e5d-ec53-3bc59b6843ea"
   },
   "outputs": [
    {
     "data": {
      "image/png": "[encoded data removed]",
      "text/plain": [
       "<Figure size 432x288 with 1 Axes>"
      ]
     },
     "metadata": {},
     "output_type": "display_data"
    }
   ],
   "source": [
    "Sum_of_squared_distances = []\n",
    "K = range(1,10)\n",
    "for k in K:\n",
    "    km = KMeans(n_clusters=k)\n",
    "    km = km.fit(DocTerm_abstract)\n",
    "    Sum_of_squared_distances.append(km.inertia_)\n",
    "\n",
    "plt.plot(K, Sum_of_squared_distances, 'bx-')\n",
    "plt.xlabel('k')\n",
    "plt.ylabel('Sum_of_squared_distances')\n",
    "plt.title('Elbow Method For Optimal k')\n",
    "plt.show()"
   ]
  },
  {
   "cell_type": "markdown",
   "metadata": {
    "id": "x1ZfMCfGI3r3"
   },
   "source": [
    "\n",
    "\n",
    "*   **Remarque**\n",
    "\n",
    "La courbe elbow ne nous montre pas l'existence d'un coude.\n",
    "\n",
    "Nous avons testé plusieurs valeurs de k, et nous trouvons que k=4 donne des résultats plus significatifs. "
   ]
  },
  {
   "cell_type": "code",
   "execution_count": null,
   "metadata": {
    "id": "nd3o_Ukci71z"
   },
   "outputs": [],
   "source": [
    "km = KMeans(n_clusters=4, max_iter=100, n_init=5,random_state=0)\n",
    "km = km.fit(DocTerm_abstract)\n"
   ]
  },
  {
   "cell_type": "code",
   "execution_count": null,
   "metadata": {
    "id": "a1kt-NrMjB0O"
   },
   "outputs": [],
   "source": [
    "labels= km.labels_"
   ]
  },
  {
   "cell_type": "code",
   "execution_count": null,
   "metadata": {
    "id": "qoatotJHRrJj"
   },
   "outputs": [],
   "source": [
    "cluster_center=km.cluster_centers_"
   ]
  },
  {
   "cell_type": "code",
   "execution_count": null,
   "metadata": {
    "colab": {
     "base_uri": "https://localhost:8080/"
    },
    "id": "lctftm_oR-NT",
    "outputId": "99d5ce17-f0a2-4d42-dbeb-5d43bb7b602b"
   },
   "outputs": [
    {
     "data": {
      "text/plain": [
       "0.04691681097940871"
      ]
     },
     "execution_count": 70,
     "metadata": {},
     "output_type": "execute_result"
    }
   ],
   "source": [
    "# à quel point les clusters sont éloignés les uns les autres \n",
    "silhouette_score = metrics.silhouette_score(DocTerm_abstract, labels, metric='euclidean')\n",
    "silhouette_score"
   ]
  },
  {
   "cell_type": "markdown",
   "metadata": {
    "id": "uJ85lRhYAuWb"
   },
   "source": [
    "* Ce score indique que nos clusters sont relativement très proches les uns des autres."
   ]
  },
  {
   "cell_type": "code",
   "execution_count": null,
   "metadata": {
    "colab": {
     "base_uri": "https://localhost:8080/",
     "height": 493
    },
    "id": "QiBBvU7USiHM",
    "outputId": "1b877c4a-0e2a-4fb5-d593-94ee744a3fe7"
   },
   "outputs": [
    {
     "data": {
      "text/html": [
       "<div>\n",
       "<style scoped>\n",
       "    .dataframe tbody tr th:only-of-type {\n",
       "        vertical-align: middle;\n",
       "    }\n",
       "\n",
       "    .dataframe tbody tr th {\n",
       "        vertical-align: top;\n",
       "    }\n",
       "\n",
       "    .dataframe thead th {\n",
       "        text-align: right;\n",
       "    }\n",
       "</style>\n",
       "<table border=\"1\" class=\"dataframe\">\n",
       "  <thead>\n",
       "    <tr style=\"text-align: right;\">\n",
       "      <th></th>\n",
       "      <th>Pub_Venue</th>\n",
       "      <th>Year</th>\n",
       "      <th>Authors</th>\n",
       "      <th>Title</th>\n",
       "      <th>Index</th>\n",
       "      <th>Id</th>\n",
       "      <th>Abstract</th>\n",
       "      <th>splitted_authors</th>\n",
       "      <th>Bow Clus Label</th>\n",
       "    </tr>\n",
       "  </thead>\n",
       "  <tbody>\n",
       "    <tr>\n",
       "      <th>0</th>\n",
       "      <td>DAC</td>\n",
       "      <td>1988</td>\n",
       "      <td>['Chung-Kuan Cheng', 'David N. Deutsch']</td>\n",
       "      <td>Improved Channel Routing by Via Minimization a...</td>\n",
       "      <td>131751</td>\n",
       "      <td>['133716', '133521', '134343']</td>\n",
       "      <td>channel routing area improvement mean via mini...</td>\n",
       "      <td>[chung-kuan cheng, david n. deutsch]</td>\n",
       "      <td>2</td>\n",
       "    </tr>\n",
       "    <tr>\n",
       "      <th>1</th>\n",
       "      <td>DAC</td>\n",
       "      <td>2006</td>\n",
       "      <td>['Lei Cheng', 'Liang Deng', 'Deming Chen', 'Ma...</td>\n",
       "      <td>A fast simultaneous input vector generation an...</td>\n",
       "      <td>131752</td>\n",
       "      <td>['132550', '530568', '436486', '134259', '2830...</td>\n",
       "      <td>input vector control ivc technique observation...</td>\n",
       "      <td>[lei cheng, liang deng, deming chen, martin d....</td>\n",
       "      <td>2</td>\n",
       "    </tr>\n",
       "    <tr>\n",
       "      <th>2</th>\n",
       "      <td>DAC</td>\n",
       "      <td>1992</td>\n",
       "      <td>['Kwang-Ting Cheng', 'Hi-Keung Tony Ma']</td>\n",
       "      <td>On the Over-Specification Problem in Sequentia...</td>\n",
       "      <td>131756</td>\n",
       "      <td>['455537', '1078626', '131745']</td>\n",
       "      <td>author atpg automatic test pattern generation ...</td>\n",
       "      <td>[kwang-ting cheng, hi-keung tony ma]</td>\n",
       "      <td>2</td>\n",
       "    </tr>\n",
       "    <tr>\n",
       "      <th>3</th>\n",
       "      <td>DAC</td>\n",
       "      <td>2005</td>\n",
       "      <td>['Lerong Cheng', 'Phoebe Wong', 'Fei Li', 'Yan...</td>\n",
       "      <td>Device and architecture co-optimization for FP...</td>\n",
       "      <td>131759</td>\n",
       "      <td>['214244', '215701', '214503', '282575', '2144...</td>\n",
       "      <td>device optimization considering supply voltage...</td>\n",
       "      <td>[lerong cheng, phoebe wong, fei li, yan lin, l...</td>\n",
       "      <td>2</td>\n",
       "    </tr>\n",
       "    <tr>\n",
       "      <th>4</th>\n",
       "      <td>DAC</td>\n",
       "      <td>1989</td>\n",
       "      <td>['Wu-Tung Cheng', 'Meng-Lin Yu']</td>\n",
       "      <td>Differential Fault Simulation - a Fast Method ...</td>\n",
       "      <td>131760</td>\n",
       "      <td>['131744', '806030']</td>\n",
       "      <td>fast fault simulator called differential fault...</td>\n",
       "      <td>[wu-tung cheng, meng-lin yu]</td>\n",
       "      <td>2</td>\n",
       "    </tr>\n",
       "  </tbody>\n",
       "</table>\n",
       "</div>"
      ],
      "text/plain": [
       "  Pub_Venue  ...  Bow Clus Label\n",
       "0       DAC  ...               2\n",
       "1       DAC  ...               2\n",
       "2       DAC  ...               2\n",
       "3       DAC  ...               2\n",
       "4       DAC  ...               2\n",
       "\n",
       "[5 rows x 9 columns]"
      ]
     },
     "execution_count": 76,
     "metadata": {},
     "output_type": "execute_result"
    }
   ],
   "source": [
    "# assigner un cluster à chaque abstract ( sorte de label)\n",
    "DF['Bow Clus Label'] = labels  # la dernière colonne du DF représente le numéro du label \n",
    "DF.head()"
   ]
  },
  {
   "cell_type": "markdown",
   "metadata": {
    "id": "hKkJ0eh_Q7W3"
   },
   "source": [
    "## Evaluation des résultats du clustering "
   ]
  },
  {
   "cell_type": "markdown",
   "metadata": {
    "id": "tgWFEKTsbJe2"
   },
   "source": [
    "*  **visualiser la distribution des articles à travers les 4 clusters**"
   ]
  },
  {
   "cell_type": "code",
   "execution_count": null,
   "metadata": {
    "colab": {
     "base_uri": "https://localhost:8080/"
    },
    "id": "yxz4NXWYTLnD",
    "outputId": "115e08b3-fe70-4f10-9d14-e3d596c3df82"
   },
   "outputs": [
    {
     "data": {
      "text/plain": [
       "Bow Clus Label\n",
       "0      583\n",
       "1      852\n",
       "2    13415\n",
       "3     2783\n",
       "Name: Title, dtype: int64"
      ]
     },
     "execution_count": 77,
     "metadata": {},
     "output_type": "execute_result"
    }
   ],
   "source": [
    "# Combien d'articles appartiennent à chaque cluster\n",
    "DF.groupby(['Bow Clus Label'])['Title'].count()\n"
   ]
  },
  {
   "cell_type": "code",
   "execution_count": null,
   "metadata": {
    "colab": {
     "base_uri": "https://localhost:8080/",
     "height": 295
    },
    "id": "UkGPXVi6d6-X",
    "outputId": "a2dcf6d7-ce1f-49a2-fcd9-12a35ff9f955"
   },
   "outputs": [
    {
     "data": {
      "image/png": "[encoded data removed]",
      "text/plain": [
       "<Figure size 432x288 with 1 Axes>"
      ]
     },
     "metadata": {
      "needs_background": "light"
     },
     "output_type": "display_data"
    }
   ],
   "source": [
    "#visualiser comment les articles sont distribués à travers les 4 clusters \n",
    "\n",
    "plt.bar([x for x in range(4)], DF.groupby(['Bow Clus Label'])['Abstract'].count(), alpha = 0.4)\n",
    "plt.title('KMeans cluster points')\n",
    "plt.xlabel(\"Numéro du cluster\")\n",
    "plt.ylabel(\"Nombre d'articles \")\n",
    "plt.show()"
   ]
  },
  {
   "cell_type": "markdown",
   "metadata": {
    "id": "jRfG8L1eTZOe"
   },
   "source": [
    "   **Remarque**\n",
    "   * On remarque que le cluster n° 2 contient presque la totalité des articles (13415), suivi du cluster n°3, ensuite le cluster n°1, et pour finir le cluster n°0. "
   ]
  },
  {
   "cell_type": "markdown",
   "metadata": {
    "id": "wPkLDvkObW_p"
   },
   "source": [
    "*    **Affichage de TOP 10 des termes présents dans chaque cluster**"
   ]
  },
  {
   "cell_type": "code",
   "execution_count": null,
   "metadata": {
    "colab": {
     "base_uri": "https://localhost:8080/"
    },
    "id": "WdijhZnUUI14",
    "outputId": "896c6bf0-5e44-41ce-ecb2-bc4672b325f8"
   },
   "outputs": [
    {
     "name": "stdout",
     "output_type": "stream",
     "text": [
      "Top 10 des termes pour chaque cluster:\n",
      "Cluster 0: graph\n",
      " vertex\n",
      " number\n",
      " edge\n",
      " result\n",
      " time\n",
      " class\n",
      " tree\n",
      " algorithm\n",
      " maximum\n",
      "Cluster 1: network\n",
      " node\n",
      " result\n",
      " protocol\n",
      " scheme\n",
      " sensor\n",
      " wireless\n",
      " data\n",
      " performance\n",
      " communication\n",
      "Cluster 2: result\n",
      " system\n",
      " design\n",
      " technique\n",
      " time\n",
      " performance\n",
      " circuit\n",
      " algorithm\n",
      " number\n",
      " function\n",
      "Cluster 3: system\n",
      " data\n",
      " query\n",
      " database\n",
      " application\n",
      " information\n",
      " result\n",
      " technique\n",
      " user\n",
      " performance\n"
     ]
    }
   ],
   "source": [
    "# Trouver le top 10 termes présents dans chaque cluster\n",
    "print(\"Top 10 des termes pour chaque cluster:\")\n",
    "order_centroids = km.cluster_centers_.argsort()[:, ::-1]\n",
    "terms = vectorizer.get_feature_names()\n",
    "for i in range(4):\n",
    "    print(\"Cluster %d:\" % i, end='')\n",
    "    for ind in order_centroids[i, :10]:\n",
    "        print(' %s' % terms[ind], end='')\n",
    "        print()"
   ]
  },
  {
   "cell_type": "markdown",
   "metadata": {
    "id": "B_goJxjHB1Zi"
   },
   "source": [
    "**Remarque**\n",
    "\n",
    "*  On peut dégager qu'il existe une thématique propre à chacun de nos clusters\n",
    "\n",
    "Cluster 0: Théorie des graphes\n",
    "\n",
    "Cluster 1: Réseaux et protocoles de communication\n",
    "\n",
    "Cluster 2: Algorithmique\n",
    "\n",
    "Cluster 3: Bases de données\n"
   ]
  },
  {
   "cell_type": "markdown",
   "metadata": {
    "id": "oPgFwgy6cezM"
   },
   "source": [
    "*    **Distribution des clusters par revue**"
   ]
  },
  {
   "cell_type": "code",
   "execution_count": null,
   "metadata": {
    "colab": {
     "base_uri": "https://localhost:8080/"
    },
    "id": "67AvXcmNUIfE",
    "outputId": "f159e8eb-8826-40e2-b540-55e3229e6a27"
   },
   "outputs": [
    {
     "data": {
      "text/plain": [
       "Pub_Venue                          Bow Clus Label\n",
       "DAC                                0                    8\n",
       "                                   1                   47\n",
       "                                   2                 1817\n",
       "                                   3                  159\n",
       "DAGM-Symposium                     2                   63\n",
       "                                   3                    5\n",
       "DATA BASE                          1                    2\n",
       "                                   2                  132\n",
       "                                   3                   80\n",
       "Data Min. Knowl. Discov.           0                    2\n",
       "                                   1                    7\n",
       "                                   2                   86\n",
       "                                   3                   86\n",
       "Des. Codes Cryptography            0                   12\n",
       "                                   1                    3\n",
       "                                   2                  628\n",
       "                                   3                    5\n",
       "Discrete Applied Mathematics       0                  417\n",
       "                                   1                   38\n",
       "                                   2                  862\n",
       "                                   3                   18\n",
       "Distributed Computing              0                    5\n",
       "                                   1                   31\n",
       "                                   2                  156\n",
       "                                   3                   32\n",
       "Electr. Notes Theor. Comput. Sci.  0                   44\n",
       "                                   1                   35\n",
       "                                   2                 1597\n",
       "                                   3                  233\n",
       "GECCO                              0                   11\n",
       "Name: Pub_Venue, dtype: int64"
      ]
     },
     "execution_count": 81,
     "metadata": {},
     "output_type": "execute_result"
    }
   ],
   "source": [
    "DF.groupby(['Pub_Venue','Bow Clus Label'])['Pub_Venue'].count().head(30)"
   ]
  },
  {
   "cell_type": "code",
   "execution_count": null,
   "metadata": {
    "colab": {
     "base_uri": "https://localhost:8080/"
    },
    "id": "GYhzu7VzD9Ep",
    "outputId": "ab0e2db7-b1e4-407a-a571-ffa328a991e2"
   },
   "outputs": [
    {
     "data": {
      "text/plain": [
       "Pub_Venue                        Bow Clus Label\n",
       "IJCAI                            0                   13\n",
       "                                 1                   52\n",
       "                                 2                 1640\n",
       "                                 3                  200\n",
       "IJCAI (1)                        1                    2\n",
       "                                 2                   75\n",
       "                                 3                    6\n",
       "Journal of Systems and Software  0                    5\n",
       "                                 1                   68\n",
       "                                 2                  581\n",
       "                                 3                  262\n",
       "Knowl. Inf. Syst.                1                    1\n",
       "                                 2                   35\n",
       "                                 3                   33\n",
       "SIGMOD Conference                0                   30\n",
       "                                 1                   34\n",
       "                                 2                  556\n",
       "                                 3                 1007\n",
       "SIGMOD Record                    0                    3\n",
       "                                 1                   15\n",
       "                                 2                  280\n",
       "                                 3                  212\n",
       "SMC                              0                    1\n",
       "                                 1                   26\n",
       "                                 2                  244\n",
       "                                 3                   54\n",
       "STOC                             0                   13\n",
       "                                 1                    2\n",
       "                                 2                   53\n",
       "                                 3                    5\n",
       "Name: Pub_Venue, dtype: int64"
      ]
     },
     "execution_count": 82,
     "metadata": {},
     "output_type": "execute_result"
    }
   ],
   "source": [
    "DF.groupby(['Pub_Venue','Bow Clus Label'])['Pub_Venue'].count().tail(30)"
   ]
  },
  {
   "cell_type": "markdown",
   "metadata": {
    "id": "XWKBoLd4c4g6"
   },
   "source": [
    "**Remarque:**\n",
    "\n",
    "* On remarque que pour chaque revue, on trouve la majorité des articles lui appartenant dans un seul des 4 clusters (hormis les erreurs de classification), ce qui pourrait indiquer que la classification s'est basée sur les revues."
   ]
  },
  {
   "cell_type": "markdown",
   "metadata": {
    "id": "ihqEWkg4dQjJ"
   },
   "source": [
    "*  **Fréquence d'apparition de chaque revue par cluster**"
   ]
  },
  {
   "cell_type": "code",
   "execution_count": null,
   "metadata": {
    "colab": {
     "base_uri": "https://localhost:8080/"
    },
    "id": "8RjG6FL9qbzD",
    "outputId": "550e71d3-3699-464b-caa3-c5ecdb46d6bc"
   },
   "outputs": [
    {
     "data": {
      "text/plain": [
       "Bow Clus Label  Pub_Venue                        \n",
       "0               DAC                                     8\n",
       "                Data Min. Knowl. Discov.                2\n",
       "                Des. Codes Cryptography                12\n",
       "                Discrete Applied Mathematics          417\n",
       "                Distributed Computing                   5\n",
       "                Electr. Notes Theor. Comput. Sci.      44\n",
       "                GECCO                                  11\n",
       "                GECCO (Companion)                       2\n",
       "                ICC                                     2\n",
       "                ICCAD                                   7\n",
       "                ICCBR                                   1\n",
       "                ICCSA (1)                               1\n",
       "                ICCSA (3)                               1\n",
       "                ICCV                                    1\n",
       "                ICIP                                    4\n",
       "                IJCAI                                  13\n",
       "                Journal of Systems and Software         5\n",
       "                SIGMOD Conference                      30\n",
       "                SIGMOD Record                           3\n",
       "                SMC                                     1\n",
       "                STOC                                   13\n",
       "1               DAC                                    47\n",
       "                DATA BASE                               2\n",
       "                Data Min. Knowl. Discov.                7\n",
       "                Des. Codes Cryptography                 3\n",
       "                Discrete Applied Mathematics           38\n",
       "                Distributed Computing                  31\n",
       "                Electr. Notes Theor. Comput. Sci.      35\n",
       "                GECCO                                  70\n",
       "                GECCO (Companion)                      14\n",
       "                GECCO Workshops                         2\n",
       "                ICC                                   301\n",
       "                ICCAD                                  53\n",
       "                ICCSA (1)                              11\n",
       "                ICCSA (2)                              27\n",
       "                ICCSA (3)                              10\n",
       "                ICIP                                    1\n",
       "                IJCAI                                  52\n",
       "                IJCAI (1)                               2\n",
       "                Journal of Systems and Software        68\n",
       "                Knowl. Inf. Syst.                       1\n",
       "                SIGMOD Conference                      34\n",
       "                SIGMOD Record                          15\n",
       "                SMC                                    26\n",
       "                STOC                                    2\n",
       "2               DAC                                  1817\n",
       "                DAGM-Symposium                         63\n",
       "                DATA BASE                             132\n",
       "                Data Min. Knowl. Discov.               86\n",
       "                Des. Codes Cryptography               628\n",
       "Name: Pub_Venue, dtype: int64"
      ]
     },
     "execution_count": 83,
     "metadata": {},
     "output_type": "execute_result"
    }
   ],
   "source": [
    "DF.groupby(['Bow Clus Label','Pub_Venue'])['Pub_Venue'].count().head(50)"
   ]
  },
  {
   "cell_type": "code",
   "execution_count": null,
   "metadata": {
    "colab": {
     "base_uri": "https://localhost:8080/"
    },
    "id": "11R5kOiidf2L",
    "outputId": "a93265aa-55f0-4076-dde7-526cc82371e8"
   },
   "outputs": [
    {
     "data": {
      "text/plain": [
       "Bow Clus Label  Pub_Venue                        \n",
       "1               SIGMOD Conference                      34\n",
       "                SIGMOD Record                          15\n",
       "                SMC                                    26\n",
       "                STOC                                    2\n",
       "2               DAC                                  1817\n",
       "                DAGM-Symposium                         63\n",
       "                DATA BASE                             132\n",
       "                Data Min. Knowl. Discov.               86\n",
       "                Des. Codes Cryptography               628\n",
       "                Discrete Applied Mathematics          862\n",
       "                Distributed Computing                 156\n",
       "                Electr. Notes Theor. Comput. Sci.    1597\n",
       "                GECCO                                1293\n",
       "                GECCO (Companion)                     229\n",
       "                GECCO Workshops                        60\n",
       "                ICC                                   240\n",
       "                ICCAD                                1511\n",
       "                ICCBR                                  55\n",
       "                ICCE                                   49\n",
       "                ICCSA (1)                             117\n",
       "                ICCSA (2)                              97\n",
       "                ICCSA (3)                             108\n",
       "                ICCV                                   74\n",
       "                ICIP                                  777\n",
       "                IJCAI                                1640\n",
       "                IJCAI (1)                              75\n",
       "                Journal of Systems and Software       581\n",
       "                Knowl. Inf. Syst.                      35\n",
       "                SIGMOD Conference                     556\n",
       "                SIGMOD Record                         280\n",
       "                SMC                                   244\n",
       "                STOC                                   53\n",
       "3               DAC                                   159\n",
       "                DAGM-Symposium                          5\n",
       "                DATA BASE                              80\n",
       "                Data Min. Knowl. Discov.               86\n",
       "                Des. Codes Cryptography                 5\n",
       "                Discrete Applied Mathematics           18\n",
       "                Distributed Computing                  32\n",
       "                Electr. Notes Theor. Comput. Sci.     233\n",
       "                GECCO                                  98\n",
       "                GECCO (Companion)                      24\n",
       "                GECCO Workshops                         4\n",
       "                ICC                                    44\n",
       "                ICCAD                                  95\n",
       "                ICCBR                                  15\n",
       "                ICCE                                    6\n",
       "                ICCSA (1)                              23\n",
       "                ICCSA (2)                              21\n",
       "                ICCSA (3)                              25\n",
       "                ICCV                                    1\n",
       "                ICIP                                   30\n",
       "                IJCAI                                 200\n",
       "                IJCAI (1)                               6\n",
       "                Journal of Systems and Software       262\n",
       "                Knowl. Inf. Syst.                      33\n",
       "                SIGMOD Conference                    1007\n",
       "                SIGMOD Record                         212\n",
       "                SMC                                    54\n",
       "                STOC                                    5\n",
       "Name: Pub_Venue, dtype: int64"
      ]
     },
     "execution_count": 85,
     "metadata": {},
     "output_type": "execute_result"
    }
   ],
   "source": [
    "DF.groupby(['Bow Clus Label','Pub_Venue'])['Pub_Venue'].count().tail(60)"
   ]
  },
  {
   "cell_type": "markdown",
   "metadata": {
    "id": "yZYkfNC2djZ5"
   },
   "source": [
    "**Remarque:**\n",
    "\n",
    "Ici, nous cherchons à savoir quelles sont les revues qui ont le plus d'articles dans chaque cluster afin d'identifier le thème de ce dernier :\n",
    "\n",
    "cluster 0: la revue majoritaire est Discrete applied Mathematics 417\n",
    "\n",
    "cluster 1: ICC 301\n",
    "\n",
    "cluster 2: DAC et IJCAI\n",
    "\n",
    "cluster 3 : SIGMOD Conference 1007"
   ]
  },
  {
   "cell_type": "markdown",
   "metadata": {
    "id": "-enj58XiG1eq"
   },
   "source": [
    "On voit que la répartition des revues dans chaque cluster correspond bien à ce qu'on a observé lors de l'analyse des termes les plus fréquents dans chaque cluster.\n",
    "\n",
    "On pourrait déduire que la similarité des éléments dans chaque cluster est basée sur les revues.\n",
    "\n",
    "On peut aussi noter que le fait que le cluster 2 contienne beaucoup plus d'éléments que les autres clusters peut être justifié par la multitude d'articles publiés dans les revues majoritaires du cluster 2 (>1500 articles), contrairement aux revues d'autres clusters qui sont de l'ordre de quelques centaines.\n",
    "\n",
    "Pour s'assurer de cela, on continue notre analyse sur les autres variables."
   ]
  },
  {
   "cell_type": "markdown",
   "metadata": {
    "id": "L9wb1kWGeelS"
   },
   "source": [
    "*    **Fréquence d'apparition des années de publication d'articles par cluster**"
   ]
  },
  {
   "cell_type": "code",
   "execution_count": null,
   "metadata": {
    "colab": {
     "base_uri": "https://localhost:8080/"
    },
    "id": "eH_YrswyeFbX",
    "outputId": "df63f440-6dde-4ec9-b991-834552ab8fe0"
   },
   "outputs": [
    {
     "data": {
      "text/plain": [
       "Bow Clus Label  Year\n",
       "0               1971      1\n",
       "                1975      1\n",
       "                1981      1\n",
       "                1983      1\n",
       "                1985      3\n",
       "                1986      1\n",
       "                1989      2\n",
       "                1990      3\n",
       "                1991      2\n",
       "                1993      1\n",
       "                1995      3\n",
       "                1996      2\n",
       "                1997      1\n",
       "                1998      2\n",
       "                1999      6\n",
       "                2000      4\n",
       "                2001      8\n",
       "                2002     19\n",
       "                2003     62\n",
       "                2004     46\n",
       "                2005     43\n",
       "                2006     39\n",
       "                2007     78\n",
       "                2008     88\n",
       "                2009    136\n",
       "                2010     30\n",
       "1               1971      1\n",
       "                1973      2\n",
       "                1975      4\n",
       "                1982      1\n",
       "                1983      5\n",
       "                1984      2\n",
       "                1985      1\n",
       "                1987      3\n",
       "                1988      2\n",
       "                1989      7\n",
       "                1990      2\n",
       "                1991      5\n",
       "                1992      3\n",
       "                1993      7\n",
       "                1994      7\n",
       "                1995     10\n",
       "                1996      4\n",
       "                1997     20\n",
       "                1998      2\n",
       "                1999      3\n",
       "                2000      9\n",
       "                2001     10\n",
       "                2002     11\n",
       "                2003     41\n",
       "                2004     34\n",
       "                2005     55\n",
       "                2006     46\n",
       "                2007     97\n",
       "                2008     58\n",
       "                2009    379\n",
       "                2010     21\n",
       "2               1969     12\n",
       "                1971     17\n",
       "                1972      1\n",
       "Name: Year, dtype: int64"
      ]
     },
     "execution_count": 87,
     "metadata": {},
     "output_type": "execute_result"
    }
   ],
   "source": [
    "DF.groupby(['Bow Clus Label','Year'])['Year'].count().head(60)"
   ]
  },
  {
   "cell_type": "code",
   "execution_count": null,
   "metadata": {
    "colab": {
     "base_uri": "https://localhost:8080/"
    },
    "id": "i5tzjK34H5Ry",
    "outputId": "77e7470c-b43e-43c3-b93c-4688c2bd46f8"
   },
   "outputs": [
    {
     "data": {
      "text/plain": [
       "Bow Clus Label  Year\n",
       "2               1989     256\n",
       "                1990     103\n",
       "                1991     136\n",
       "                1992     151\n",
       "                1993     137\n",
       "                1994     143\n",
       "                1995     326\n",
       "                1996     169\n",
       "                1997     320\n",
       "                1998     186\n",
       "                1999     375\n",
       "                2000     214\n",
       "                2001     410\n",
       "                2002     399\n",
       "                2003    1023\n",
       "                2004     581\n",
       "                2005    1389\n",
       "                2006     943\n",
       "                2007    1499\n",
       "                2008    1288\n",
       "                2009    2383\n",
       "                2010     151\n",
       "3               1969       4\n",
       "                1971       3\n",
       "                1975      19\n",
       "                1976       8\n",
       "                1977      16\n",
       "                1978       7\n",
       "                1979      10\n",
       "                1980      10\n",
       "                1981      20\n",
       "                1982      22\n",
       "                1983      24\n",
       "                1984      26\n",
       "                1985      24\n",
       "                1986      33\n",
       "                1987      67\n",
       "                1988      30\n",
       "                1989      48\n",
       "                1990      29\n",
       "                1991      20\n",
       "                1992      36\n",
       "                1993      63\n",
       "                1994      41\n",
       "                1995      71\n",
       "                1996      43\n",
       "                1997      74\n",
       "                1998      80\n",
       "                1999      77\n",
       "                2000      75\n",
       "                2001      83\n",
       "                2002     113\n",
       "                2003     170\n",
       "                2004     141\n",
       "                2005     211\n",
       "                2006     168\n",
       "                2007     249\n",
       "                2008     227\n",
       "                2009     326\n",
       "                2010     115\n",
       "Name: Year, dtype: int64"
      ]
     },
     "execution_count": 88,
     "metadata": {},
     "output_type": "execute_result"
    }
   ],
   "source": [
    "DF.groupby(['Bow Clus Label','Year'])['Year'].count().tail(60)"
   ]
  },
  {
   "cell_type": "markdown",
   "metadata": {
    "id": "KN3U7rvnexl7"
   },
   "source": [
    "**Remarque**\n",
    "\n",
    "Nous remarquons que dans tous les clusters, les années les plus significatives (ou productives) sont les années 2000, et principalement entre 2007 et 2010.\n",
    "\n",
    "On peut donc exclure l'influence des années de publication sur la formation des clusters."
   ]
  },
  {
   "cell_type": "markdown",
   "metadata": {
    "id": "s438_gIbYRnU"
   },
   "source": [
    "# Kmeans sur la matrice TF-IDF"
   ]
  },
  {
   "cell_type": "markdown",
   "metadata": {
    "id": "lfhwyIbugMYy"
   },
   "source": [
    "## Déterminer le nombre de clusters optimal en utilisant la méthode Elbow"
   ]
  },
  {
   "cell_type": "code",
   "execution_count": null,
   "metadata": {
    "colab": {
     "base_uri": "https://localhost:8080/",
     "height": 295
    },
    "id": "gOJPLnyWgU50",
    "outputId": "6de8562a-0c7a-48a6-efc5-5d38998f65d8"
   },
   "outputs": [
    {
     "data": {
      "image/png": "[encoded data removed]",
      "text/plain": [
       "<Figure size 432x288 with 1 Axes>"
      ]
     },
     "metadata": {
      "needs_background": "light"
     },
     "output_type": "display_data"
    }
   ],
   "source": [
    "Sum_of_squared_distances = []\n",
    "K = range(1,10)\n",
    "for k in K:\n",
    "    km = KMeans(n_clusters=k)\n",
    "    km = km.fit(DocTerm_abstract)\n",
    "    Sum_of_squared_distances.append(km.inertia_)\n",
    "\n",
    "plt.plot(K, Sum_of_squared_distances, 'bx-')\n",
    "plt.xlabel('k')\n",
    "plt.ylabel('Sum_of_squared_distances')\n",
    "plt.title('Elbow Method For Optimal k')\n",
    "plt.show()"
   ]
  },
  {
   "cell_type": "markdown",
   "metadata": {
    "id": "gToScodCgpVb"
   },
   "source": [
    "**Remarque**\n",
    "\n",
    "*   On voit que la courbe générée par la méthode elbow ne nous permet pas d'identifier réellement un coude.\n",
    "* Dans la suite des expérimentations on remarque que k=4 donne les meilleurs résultats"
   ]
  },
  {
   "cell_type": "code",
   "execution_count": null,
   "metadata": {
    "id": "kNh7ssg1YRSf"
   },
   "outputs": [],
   "source": [
    "km = KMeans(n_clusters=4, max_iter=100, n_init=5,random_state=0)\n",
    "km = km.fit(TFIDF_abstract)\n",
    "\n"
   ]
  },
  {
   "cell_type": "code",
   "execution_count": null,
   "metadata": {
    "id": "97r46xTogoCu"
   },
   "outputs": [],
   "source": [
    "labels= km.labels_"
   ]
  },
  {
   "cell_type": "code",
   "execution_count": null,
   "metadata": {
    "id": "9rRwEfdOgdhA"
   },
   "outputs": [],
   "source": [
    "# récupérer les centroides des clusters \n",
    "cluster_center=km.cluster_centers_"
   ]
  },
  {
   "cell_type": "code",
   "execution_count": null,
   "metadata": {
    "colab": {
     "base_uri": "https://localhost:8080/"
    },
    "id": "LufObZoOgyXl",
    "outputId": "28f09d1d-f658-40f0-cfc5-a61873fc5fb8"
   },
   "outputs": [
    {
     "data": {
      "text/plain": [
       "0.00370751743027716"
      ]
     },
     "execution_count": 58,
     "metadata": {},
     "output_type": "execute_result"
    }
   ],
   "source": [
    "# à quel point les clusters sont éloignés les uns les autres \n",
    "silhouette_score = metrics.silhouette_score(TFIDF_abstract, labels, metric='euclidean')\n",
    "silhouette_score"
   ]
  },
  {
   "cell_type": "markdown",
   "metadata": {
    "id": "NzJP8i3dIlaN"
   },
   "source": [
    "Ce score montre que les clusters sont très proches les uns des autres"
   ]
  },
  {
   "cell_type": "code",
   "execution_count": null,
   "metadata": {
    "colab": {
     "base_uri": "https://localhost:8080/",
     "height": 247
    },
    "id": "VYzDZzPlg6Zl",
    "outputId": "1290eebc-2988-4dc9-ad30-fd1a794f803c"
   },
   "outputs": [
    {
     "data": {
      "text/html": [
       "<div>\n",
       "<style scoped>\n",
       "    .dataframe tbody tr th:only-of-type {\n",
       "        vertical-align: middle;\n",
       "    }\n",
       "\n",
       "    .dataframe tbody tr th {\n",
       "        vertical-align: top;\n",
       "    }\n",
       "\n",
       "    .dataframe thead th {\n",
       "        text-align: right;\n",
       "    }\n",
       "</style>\n",
       "<table border=\"1\" class=\"dataframe\">\n",
       "  <thead>\n",
       "    <tr style=\"text-align: right;\">\n",
       "      <th></th>\n",
       "      <th>Pub_Venue</th>\n",
       "      <th>Year</th>\n",
       "      <th>Authors</th>\n",
       "      <th>Title</th>\n",
       "      <th>Index</th>\n",
       "      <th>Id</th>\n",
       "      <th>Abstract</th>\n",
       "      <th>splitted_authors</th>\n",
       "      <th>Bow Clus Label</th>\n",
       "    </tr>\n",
       "  </thead>\n",
       "  <tbody>\n",
       "    <tr>\n",
       "      <th>0</th>\n",
       "      <td>DAC</td>\n",
       "      <td>1988</td>\n",
       "      <td>['Chung-Kuan Cheng', 'David N. Deutsch']</td>\n",
       "      <td>Improved Channel Routing by Via Minimization a...</td>\n",
       "      <td>131751</td>\n",
       "      <td>['133716', '133521', '134343']</td>\n",
       "      <td>channel routing area improvement mean via mini...</td>\n",
       "      <td>[chung-kuan cheng, david n. deutsch]</td>\n",
       "      <td>0</td>\n",
       "    </tr>\n",
       "    <tr>\n",
       "      <th>1</th>\n",
       "      <td>DAC</td>\n",
       "      <td>2006</td>\n",
       "      <td>['Lei Cheng', 'Liang Deng', 'Deming Chen', 'Ma...</td>\n",
       "      <td>A fast simultaneous input vector generation an...</td>\n",
       "      <td>131752</td>\n",
       "      <td>['132550', '530568', '436486', '134259', '2830...</td>\n",
       "      <td>input vector control ivc technique observation...</td>\n",
       "      <td>[lei cheng, liang deng, deming chen, martin d....</td>\n",
       "      <td>0</td>\n",
       "    </tr>\n",
       "  </tbody>\n",
       "</table>\n",
       "</div>"
      ],
      "text/plain": [
       "  Pub_Venue  ...  Bow Clus Label\n",
       "0       DAC  ...               0\n",
       "1       DAC  ...               0\n",
       "\n",
       "[2 rows x 9 columns]"
      ]
     },
     "execution_count": 59,
     "metadata": {},
     "output_type": "execute_result"
    }
   ],
   "source": [
    "# assigner un cluster à chaque abstract ( sorte de label)\n",
    "DF['Bow Clus Label'] = labels  # la dernière colonne du DF représente le numéro du label \n",
    "DF.head(2)"
   ]
  },
  {
   "cell_type": "markdown",
   "metadata": {
    "id": "WDxAAFWdhKyi"
   },
   "source": [
    "## Evaluation des résultats du clustering "
   ]
  },
  {
   "cell_type": "markdown",
   "metadata": {
    "id": "BW3XinXYhSMH"
   },
   "source": [
    "*  **visualiser la distribution des articles à travers les 4 clusters**"
   ]
  },
  {
   "cell_type": "code",
   "execution_count": null,
   "metadata": {
    "colab": {
     "base_uri": "https://localhost:8080/"
    },
    "id": "DiH-n9-yhTr3",
    "outputId": "52f1e6d2-03b7-474d-fada-94c30364208e"
   },
   "outputs": [
    {
     "data": {
      "text/plain": [
       "Bow Clus Label\n",
       "0     2762\n",
       "1    12201\n",
       "2      782\n",
       "3     1888\n",
       "Name: Title, dtype: int64"
      ]
     },
     "execution_count": 60,
     "metadata": {},
     "output_type": "execute_result"
    }
   ],
   "source": [
    "# Combien d'articles appartiennent à chaque cluster\n",
    "DF.groupby(['Bow Clus Label'])['Title'].count()\n"
   ]
  },
  {
   "cell_type": "code",
   "execution_count": null,
   "metadata": {
    "colab": {
     "base_uri": "https://localhost:8080/",
     "height": 295
    },
    "id": "nLVogxRUda0S",
    "outputId": "41c4bfc8-3498-4c61-f91c-c64d4fee907d"
   },
   "outputs": [
    {
     "data": {
      "image/png": "[encoded data removed]",
      "text/plain": [
       "<Figure size 432x288 with 1 Axes>"
      ]
     },
     "metadata": {
      "needs_background": "light"
     },
     "output_type": "display_data"
    }
   ],
   "source": [
    "#visualiser comment les articles sont distribués à travers les 4 clusters \n",
    "\n",
    "plt.bar([x for x in range(4)], DF.groupby(['Bow Clus Label'])['Abstract'].count(), alpha = 0.4)\n",
    "plt.title('KMeans cluster points')\n",
    "plt.xlabel(\"Numéro du cluster\")\n",
    "plt.ylabel(\"Nombre d'articles \")\n",
    "plt.show()"
   ]
  },
  {
   "cell_type": "markdown",
   "metadata": {
    "id": "8QmycI3rIwy-"
   },
   "source": [
    "**On remarque encore une fois que l'un des clusters (ici le 1) contient beaucoup plus d'élément que les autres clusters.**"
   ]
  },
  {
   "cell_type": "markdown",
   "metadata": {
    "id": "bJ9iIS_ehxN-"
   },
   "source": [
    "*    **Affichage de TOP 10 des termes présents dans chaque cluster**"
   ]
  },
  {
   "cell_type": "code",
   "execution_count": null,
   "metadata": {
    "colab": {
     "base_uri": "https://localhost:8080/"
    },
    "id": "i9htS4_JYc_W",
    "outputId": "4c399628-aeaf-45fa-88d6-3ce45edfe053"
   },
   "outputs": [
    {
     "name": "stdout",
     "output_type": "stream",
     "text": [
      "Top 10 des termes pour chaque cluster:\n",
      "Cluster 0: circuit\n",
      " design\n",
      " power\n",
      " delay\n",
      " test\n",
      " technique\n",
      " timing\n",
      " simulation\n",
      " fault\n",
      " synthesis\n",
      "Cluster 1: system\n",
      " result\n",
      " network\n",
      " image\n",
      " function\n",
      " algorithm\n",
      " problem\n",
      " time\n",
      " technique\n",
      " application\n",
      "Cluster 2: graph\n",
      " vertex\n",
      " edge\n",
      " number\n",
      " tree\n",
      " maximum\n",
      " minimum\n",
      " every\n",
      " class\n",
      " connected\n",
      "Cluster 3: data\n",
      " query\n",
      " database\n",
      " system\n",
      " relational\n",
      " application\n",
      " user\n",
      " information\n",
      " xml\n",
      " processing\n"
     ]
    }
   ],
   "source": [
    "# Trouver le top 10 termes présents dans chaque cluster\n",
    "print(\"Top 10 des termes pour chaque cluster:\")\n",
    "order_centroids = km.cluster_centers_.argsort()[:, ::-1]\n",
    "terms = TFIDF_vectorizer.get_feature_names()\n",
    "for i in range(4):\n",
    "    print(\"Cluster %d:\" % i, end='')\n",
    "    for ind in order_centroids[i, :10]:\n",
    "        print(' %s' % terms[ind], end='')\n",
    "        print()"
   ]
  },
  {
   "cell_type": "markdown",
   "metadata": {
    "id": "DJsm4-9Kcszw"
   },
   "source": [
    "\n",
    "**Résultats** \n",
    "\n",
    "On a 4 clusters avec un champs lexical différent pour chacun. \n",
    "\n",
    "Pour le cluster n°0: On pourrait comprendre que les articles le contituant parlent de réseaux, d'électronique et de simulation\n",
    "\n",
    "Pour le cluster n°1: On pourrait comprendre que les articles le contituant parlent de problèmes d'algorithmique et d'informatique théorique. \n",
    "\n",
    "Pour le cluster n°2: On pourrait comprendre que les articles le contituant parlent de théorie des graphes \n",
    "\n",
    "Pour le cluster n°3: On pourrait comprendre que les articles le contituant parlent de données, bases de données .. etc "
   ]
  },
  {
   "cell_type": "markdown",
   "metadata": {
    "id": "_pbMYyUiiJHx"
   },
   "source": [
    "* **Distribution des clusters par revue**"
   ]
  },
  {
   "cell_type": "code",
   "execution_count": null,
   "metadata": {
    "colab": {
     "base_uri": "https://localhost:8080/"
    },
    "id": "sZBdUdyvhbjt",
    "outputId": "9e3d7b1c-0abf-4b0c-cf9a-a2c0f91f3edf"
   },
   "outputs": [
    {
     "data": {
      "text/plain": [
       "Pub_Venue                          Bow Clus Label\n",
       "DAC                                0                    8\n",
       "                                   1                   47\n",
       "                                   2                 1817\n",
       "                                   3                  159\n",
       "DAGM-Symposium                     2                   63\n",
       "                                   3                    5\n",
       "DATA BASE                          1                    2\n",
       "                                   2                  132\n",
       "                                   3                   80\n",
       "Data Min. Knowl. Discov.           0                    2\n",
       "                                   1                    7\n",
       "                                   2                   86\n",
       "                                   3                   86\n",
       "Des. Codes Cryptography            0                   12\n",
       "                                   1                    3\n",
       "                                   2                  628\n",
       "                                   3                    5\n",
       "Discrete Applied Mathematics       0                  417\n",
       "                                   1                   38\n",
       "                                   2                  862\n",
       "                                   3                   18\n",
       "Distributed Computing              0                    5\n",
       "                                   1                   31\n",
       "                                   2                  156\n",
       "                                   3                   32\n",
       "Electr. Notes Theor. Comput. Sci.  0                   44\n",
       "                                   1                   35\n",
       "                                   2                 1597\n",
       "                                   3                  233\n",
       "GECCO                              0                   11\n",
       "Name: Pub_Venue, dtype: int64"
      ]
     },
     "execution_count": 89,
     "metadata": {},
     "output_type": "execute_result"
    }
   ],
   "source": [
    "DF.groupby(['Pub_Venue','Bow Clus Label'])['Pub_Venue'].count().head(30)"
   ]
  },
  {
   "cell_type": "markdown",
   "metadata": {
    "id": "450XSjKGjLKm"
   },
   "source": [
    "**Remarque:**\n",
    "\n",
    "* On remarque ici aussi que pour chaque revue, on trouve la majorité des articles lui appartenant dans un seul des 4 clusters (hormis les erreurs de classification), ce qui pourrait indiquer que la classification se base toujours sur les revues."
   ]
  },
  {
   "cell_type": "markdown",
   "metadata": {
    "id": "E39kwzfdiZIs"
   },
   "source": [
    "* **Fréquence d'apparition de chaque revue par cluster**"
   ]
  },
  {
   "cell_type": "code",
   "execution_count": null,
   "metadata": {
    "colab": {
     "base_uri": "https://localhost:8080/"
    },
    "id": "j7kKEDoKhbXo",
    "outputId": "201adb9a-b523-46a4-a51e-7f8b7c1d16c0"
   },
   "outputs": [
    {
     "data": {
      "text/plain": [
       "Bow Clus Label  Pub_Venue                        \n",
       "0               DAC                                  1338\n",
       "                DATA BASE                               7\n",
       "                Des. Codes Cryptography                11\n",
       "                Discrete Applied Mathematics            6\n",
       "                Distributed Computing                   4\n",
       "                Electr. Notes Theor. Comput. Sci.      38\n",
       "                GECCO                                  26\n",
       "                GECCO (Companion)                       5\n",
       "                GECCO Workshops                         3\n",
       "                ICC                                    35\n",
       "                ICCAD                                1215\n",
       "                ICCBR                                   1\n",
       "                ICCSA (1)                               1\n",
       "                ICCSA (2)                               4\n",
       "                ICCSA (3)                               2\n",
       "                ICIP                                    4\n",
       "                IJCAI                                  12\n",
       "                IJCAI (1)                               1\n",
       "                Journal of Systems and Software        36\n",
       "                Knowl. Inf. Syst.                       1\n",
       "                SIGMOD Conference                       5\n",
       "                SIGMOD Record                           1\n",
       "                SMC                                     5\n",
       "                STOC                                    1\n",
       "1               DAC                                   637\n",
       "                DAGM-Symposium                         67\n",
       "                DATA BASE                             169\n",
       "                Data Min. Knowl. Discov.              105\n",
       "                Des. Codes Cryptography               618\n",
       "                Discrete Applied Mathematics          770\n",
       "                Distributed Computing                 209\n",
       "                Electr. Notes Theor. Comput. Sci.    1778\n",
       "                GECCO                                1403\n",
       "                GECCO (Companion)                     257\n",
       "                GECCO Workshops                        63\n",
       "                ICC                                   536\n",
       "                ICCAD                                 427\n",
       "                ICCBR                                  65\n",
       "                ICCE                                   55\n",
       "                ICCSA (1)                             140\n",
       "                ICCSA (2)                             133\n",
       "                ICCSA (3)                             128\n",
       "                ICCV                                   74\n",
       "                ICIP                                  793\n",
       "                IJCAI                                1807\n",
       "                IJCAI (1)                              80\n",
       "                Journal of Systems and Software       799\n",
       "                Knowl. Inf. Syst.                      45\n",
       "                SIGMOD Conference                     461\n",
       "                SIGMOD Record                         223\n",
       "                SMC                                   305\n",
       "                STOC                                   54\n",
       "2               DAC                                    18\n",
       "                Data Min. Knowl. Discov.                2\n",
       "                Des. Codes Cryptography                19\n",
       "                Discrete Applied Mathematics          550\n",
       "                Distributed Computing                   9\n",
       "                Electr. Notes Theor. Comput. Sci.      54\n",
       "                GECCO                                  25\n",
       "                GECCO (Companion)                       2\n",
       "Name: Pub_Venue, dtype: int64"
      ]
     },
     "execution_count": 64,
     "metadata": {},
     "output_type": "execute_result"
    }
   ],
   "source": [
    "DF.groupby(['Bow Clus Label','Pub_Venue'])['Pub_Venue'].count().head(60)"
   ]
  },
  {
   "cell_type": "code",
   "execution_count": null,
   "metadata": {
    "colab": {
     "base_uri": "https://localhost:8080/"
    },
    "id": "8P9uDvmU6Ax_",
    "outputId": "ddd30198-78f0-40cb-95b3-b677e9fa4142"
   },
   "outputs": [
    {
     "data": {
      "text/plain": [
       "Bow Clus Label  Pub_Venue                        \n",
       "1               SIGMOD Conference                     461\n",
       "                SIGMOD Record                         223\n",
       "                SMC                                   305\n",
       "                STOC                                   54\n",
       "2               DAC                                    18\n",
       "                Data Min. Knowl. Discov.                2\n",
       "                Des. Codes Cryptography                19\n",
       "                Discrete Applied Mathematics          550\n",
       "                Distributed Computing                   9\n",
       "                Electr. Notes Theor. Comput. Sci.      54\n",
       "                GECCO                                  25\n",
       "                GECCO (Companion)                       2\n",
       "                ICC                                     4\n",
       "                ICCAD                                  12\n",
       "                ICCBR                                   1\n",
       "                ICCSA (1)                               1\n",
       "                ICCSA (3)                               2\n",
       "                ICCV                                    1\n",
       "                ICIP                                    7\n",
       "                IJCAI                                  23\n",
       "                Journal of Systems and Software         5\n",
       "                SIGMOD Conference                      27\n",
       "                SIGMOD Record                           4\n",
       "                SMC                                     1\n",
       "                STOC                                   15\n",
       "3               DAC                                    38\n",
       "                DAGM-Symposium                          1\n",
       "                DATA BASE                              38\n",
       "                Data Min. Knowl. Discov.               74\n",
       "                Discrete Applied Mathematics            9\n",
       "                Distributed Computing                   2\n",
       "                Electr. Notes Theor. Comput. Sci.      39\n",
       "                GECCO                                  18\n",
       "                GECCO (Companion)                       5\n",
       "                ICC                                    12\n",
       "                ICCAD                                  12\n",
       "                ICCBR                                   4\n",
       "                ICCSA (1)                              10\n",
       "                ICCSA (2)                               8\n",
       "                ICCSA (3)                              12\n",
       "                ICCV                                    1\n",
       "                ICIP                                    8\n",
       "                IJCAI                                  63\n",
       "                IJCAI (1)                               2\n",
       "                Journal of Systems and Software        76\n",
       "                Knowl. Inf. Syst.                      23\n",
       "                SIGMOD Conference                    1134\n",
       "                SIGMOD Record                         282\n",
       "                SMC                                    14\n",
       "                STOC                                    3\n",
       "Name: Pub_Venue, dtype: int64"
      ]
     },
     "execution_count": 65,
     "metadata": {},
     "output_type": "execute_result"
    }
   ],
   "source": [
    "DF.groupby(['Bow Clus Label','Pub_Venue'])['Pub_Venue'].count().tail(50)"
   ]
  },
  {
   "cell_type": "markdown",
   "metadata": {
    "id": "rVLHLoXDjL4r"
   },
   "source": [
    "**Remarque:**\n",
    "\n",
    "On identifie les revues qui ont le plus d'articles dans chaque cluster :\n",
    "\n",
    "cluster 0: la revue majoritaire est DAC et ICCAD\n",
    "\n",
    "cluster 1: IJCAI et Electr. Notes Theor. Comput. Sci.   \n",
    "\n",
    "cluster 2: Discrete applied Mathematics \n",
    "\n",
    "cluster 3 : SIGMOD Conference 1134"
   ]
  },
  {
   "cell_type": "markdown",
   "metadata": {
    "id": "C0oOOimLPAfO"
   },
   "source": [
    "On voit que la répartition des revues dans chaque cluster correspond bien à ce qu'on a observé lors de l'analyse des termes les plus fréquents dans chaque cluster.\n",
    "\n",
    "On pourrait déduire que la similarité des éléments dans chaque cluster est basée sur les revues et sur les thématiques qu'elles abordent.\n",
    "\n",
    "nous avons noté également que le kmeans appliqué à la matrice TF-IDF arrive à mieux classifier les articles par revues selon le thème abordé. Par exemple, la revue DAC qui traite l'automatique appartient bien au cluster 0 correspondant, contrairement aux résultats avec la matrice BOW qui l'avait classifiée dans le cluster qui aborde le thème d'IA et informatique théorique.\n",
    "\n",
    "\n",
    "Nous allons tout de même nous pencher sur d'autres pistes d'analyse dans ce qui suit."
   ]
  },
  {
   "cell_type": "markdown",
   "metadata": {
    "id": "Z_3-YwEPioiu"
   },
   "source": [
    "*   **Fréquence d'apparition des années de publication par cluster**"
   ]
  },
  {
   "cell_type": "code",
   "execution_count": null,
   "metadata": {
    "colab": {
     "base_uri": "https://localhost:8080/"
    },
    "id": "dd8HVZvWa5Nq",
    "outputId": "993c83cb-e222-4c06-e18f-dfd1537c4975"
   },
   "outputs": [
    {
     "data": {
      "text/plain": [
       "Bow Clus Label  Year\n",
       "0               1971      1\n",
       "                1975      1\n",
       "                1981      1\n",
       "                1983      1\n",
       "                1985      3\n",
       "                1986      1\n",
       "                1989      2\n",
       "                1990      3\n",
       "                1991      2\n",
       "                1993      1\n",
       "                1995      3\n",
       "                1996      2\n",
       "                1997      1\n",
       "                1998      2\n",
       "                1999      6\n",
       "                2000      4\n",
       "                2001      8\n",
       "                2002     19\n",
       "                2003     62\n",
       "                2004     46\n",
       "                2005     43\n",
       "                2006     39\n",
       "                2007     78\n",
       "                2008     88\n",
       "                2009    136\n",
       "                2010     30\n",
       "1               1971      1\n",
       "                1973      2\n",
       "                1975      4\n",
       "                1982      1\n",
       "                1983      5\n",
       "                1984      2\n",
       "                1985      1\n",
       "                1987      3\n",
       "                1988      2\n",
       "                1989      7\n",
       "                1990      2\n",
       "                1991      5\n",
       "                1992      3\n",
       "                1993      7\n",
       "                1994      7\n",
       "                1995     10\n",
       "                1996      4\n",
       "                1997     20\n",
       "                1998      2\n",
       "                1999      3\n",
       "                2000      9\n",
       "                2001     10\n",
       "                2002     11\n",
       "                2003     41\n",
       "                2004     34\n",
       "                2005     55\n",
       "                2006     46\n",
       "                2007     97\n",
       "                2008     58\n",
       "                2009    379\n",
       "                2010     21\n",
       "2               1969     12\n",
       "                1971     17\n",
       "                1972      1\n",
       "Name: Year, dtype: int64"
      ]
     },
     "execution_count": 91,
     "metadata": {},
     "output_type": "execute_result"
    }
   ],
   "source": [
    "DF.groupby(['Bow Clus Label','Year'])['Year'].count().head(60)"
   ]
  },
  {
   "cell_type": "markdown",
   "metadata": {
    "id": "-KdRs6dTjM2b"
   },
   "source": [
    "Même remarque que pour BOW, les années les plus significatives (ou productives) sont les années 2000, et principalement entre 2007 et 2010. Cela n'influence en rien la formation de clusters."
   ]
  },
  {
   "cell_type": "markdown",
   "metadata": {
    "id": "hjSJLD4j1_EW"
   },
   "source": [
    "# Spherical Kmeans"
   ]
  },
  {
   "cell_type": "code",
   "execution_count": null,
   "metadata": {
    "colab": {
     "base_uri": "https://localhost:8080/"
    },
    "id": "EZi4qg7_dwj0",
    "outputId": "c60f4a8e-00e6-4215-f30f-be05e8e10d7a"
   },
   "outputs": [
    {
     "name": "stdout",
     "output_type": "stream",
     "text": [
      " == New init == \n",
      "iteration: 0\n",
      "3342.004612143187\n",
      "iteration: 1\n",
      "3636.679134602964\n",
      "iteration: 2\n",
      "3777.8810398120377\n",
      "iteration: 3\n",
      "3832.709263070593\n",
      "iteration: 4\n",
      "3869.3658877035714\n",
      "iteration: 5\n",
      "3917.849322040385\n",
      "iteration: 6\n",
      "3949.097071751213\n",
      "iteration: 7\n",
      "3965.0802048898304\n",
      "iteration: 8\n",
      "3974.8494520951663\n",
      "iteration: 9\n",
      "3979.1794698098247\n",
      "iteration: 10\n",
      "3980.6740983326554\n",
      "iteration: 11\n",
      "3981.242063041768\n",
      "iteration: 12\n",
      "3981.596790170071\n",
      "iteration: 13\n",
      "3981.893407680992\n",
      "iteration: 14\n",
      "3982.173806511453\n",
      "iteration: 15\n",
      "3982.577838127628\n",
      "iteration: 16\n",
      "3983.2562442663775\n",
      "iteration: 17\n",
      "3984.2208753592595\n",
      "iteration: 18\n",
      "3985.504152457129\n",
      "iteration: 19\n",
      "3986.8182032796267\n",
      " == New init == \n",
      "iteration: 0\n",
      "3343.8603189823652\n",
      "iteration: 1\n",
      "3718.22250433097\n",
      "iteration: 2\n",
      "3889.3922719462253\n",
      "iteration: 3\n",
      "3931.1762816878054\n",
      "iteration: 4\n",
      "3945.6958320426616\n",
      "iteration: 5\n",
      "3955.3160550526704\n",
      "iteration: 6\n",
      "3964.6616711319393\n",
      "iteration: 7\n",
      "3972.8166035347963\n",
      "iteration: 8\n",
      "3979.050572278813\n",
      "iteration: 9\n",
      "3983.4341984888906\n",
      "iteration: 10\n",
      "3986.7138522618293\n",
      "iteration: 11\n",
      "3989.2826098741334\n",
      "iteration: 12\n",
      "3991.594095641559\n",
      "iteration: 13\n",
      "3993.849265529634\n",
      "iteration: 14\n",
      "3997.0507642890043\n",
      "iteration: 15\n",
      "3999.830285818058\n",
      "iteration: 16\n",
      "4000.9499382183612\n",
      "iteration: 17\n",
      "4001.35634645528\n",
      "iteration: 18\n",
      "4001.6295616283574\n",
      "iteration: 19\n",
      "4001.780509965434\n",
      " == New init == \n",
      "iteration: 0\n",
      "3342.675392376078\n",
      "iteration: 1\n",
      "3678.4778088406338\n",
      "iteration: 2\n",
      "3840.2360916154976\n",
      "iteration: 3\n",
      "3901.5666217478893\n",
      "iteration: 4\n",
      "3942.2044765729393\n",
      "iteration: 5\n",
      "3972.0273446674896\n",
      "iteration: 6\n",
      "3987.3690094305457\n",
      "iteration: 7\n",
      "3993.581089694618\n",
      "iteration: 8\n",
      "3998.0697985044208\n",
      "iteration: 9\n",
      "4003.3993555461093\n",
      "iteration: 10\n",
      "4012.3120496559277\n",
      "iteration: 11\n",
      "4024.3868262873066\n",
      "iteration: 12\n",
      "4036.077047176973\n",
      "iteration: 13\n",
      "4041.8133386164773\n",
      "iteration: 14\n",
      "4043.7912367994504\n",
      "iteration: 15\n",
      "4045.834722253055\n",
      "iteration: 16\n",
      "4048.905653220354\n",
      "iteration: 17\n",
      "4053.8198308018414\n",
      "iteration: 18\n",
      "4060.2461205229242\n",
      "iteration: 19\n",
      "4063.9341244712527\n"
     ]
    }
   ],
   "source": [
    "Skm = SphericalKmeans(n_clusters=4, max_iter=20, n_init=3,random_state=0)\n",
    "Skmean = Skm.fit(DocTerm_abstract)"
   ]
  },
  {
   "cell_type": "code",
   "execution_count": null,
   "metadata": {
    "id": "iDqdKv903lvl"
   },
   "outputs": [],
   "source": [
    "Slabels= Skm.labels_"
   ]
  },
  {
   "cell_type": "code",
   "execution_count": null,
   "metadata": {
    "colab": {
     "base_uri": "https://localhost:8080/",
     "height": 196
    },
    "id": "TaErgMgY44mg",
    "outputId": "e4ce0421-8628-4e16-bf95-cb9dbfc990da"
   },
   "outputs": [
    {
     "data": {
      "text/html": [
       "<div>\n",
       "<style scoped>\n",
       "    .dataframe tbody tr th:only-of-type {\n",
       "        vertical-align: middle;\n",
       "    }\n",
       "\n",
       "    .dataframe tbody tr th {\n",
       "        vertical-align: top;\n",
       "    }\n",
       "\n",
       "    .dataframe thead th {\n",
       "        text-align: right;\n",
       "    }\n",
       "</style>\n",
       "<table border=\"1\" class=\"dataframe\">\n",
       "  <thead>\n",
       "    <tr style=\"text-align: right;\">\n",
       "      <th></th>\n",
       "      <th>Pub_Venue</th>\n",
       "      <th>Year</th>\n",
       "      <th>Authors</th>\n",
       "      <th>Title</th>\n",
       "      <th>Index</th>\n",
       "      <th>Id</th>\n",
       "      <th>Abstract</th>\n",
       "      <th>Bow Clus Label</th>\n",
       "    </tr>\n",
       "  </thead>\n",
       "  <tbody>\n",
       "    <tr>\n",
       "      <th>0</th>\n",
       "      <td>DAC</td>\n",
       "      <td>1988</td>\n",
       "      <td>['Chung-Kuan Cheng', 'David N. Deutsch']</td>\n",
       "      <td>Improved Channel Routing by Via Minimization a...</td>\n",
       "      <td>131751</td>\n",
       "      <td>['133716', '133521', '134343']</td>\n",
       "      <td>channel routing area improvement mean via mini...</td>\n",
       "      <td>1</td>\n",
       "    </tr>\n",
       "    <tr>\n",
       "      <th>1</th>\n",
       "      <td>DAC</td>\n",
       "      <td>2006</td>\n",
       "      <td>['Lei Cheng', 'Liang Deng', 'Deming Chen', 'Ma...</td>\n",
       "      <td>A fast simultaneous input vector generation an...</td>\n",
       "      <td>131752</td>\n",
       "      <td>['132550', '530568', '436486', '134259', '2830...</td>\n",
       "      <td>input vector control ivc technique observation...</td>\n",
       "      <td>1</td>\n",
       "    </tr>\n",
       "  </tbody>\n",
       "</table>\n",
       "</div>"
      ],
      "text/plain": [
       "  Pub_Venue  ...  Bow Clus Label\n",
       "0       DAC  ...               1\n",
       "1       DAC  ...               1\n",
       "\n",
       "[2 rows x 8 columns]"
      ]
     },
     "execution_count": 17,
     "metadata": {},
     "output_type": "execute_result"
    }
   ],
   "source": [
    "# assigner un cluster à chaque abstract ( sorte de label)\n",
    "DF['Bow Clus Label'] = Slabels  # la dernière colonne du DF représente le numéro du label \n",
    "DF.head(2)"
   ]
  },
  {
   "cell_type": "code",
   "execution_count": null,
   "metadata": {
    "colab": {
     "base_uri": "https://localhost:8080/"
    },
    "id": "tKH8CyPK6K6c",
    "outputId": "4f37356b-7f59-4bd2-9903-03481893ed4c"
   },
   "outputs": [
    {
     "data": {
      "text/plain": [
       "Bow Clus Label\n",
       "0    1945\n",
       "1    6300\n",
       "2    5660\n",
       "3    3728\n",
       "Name: Title, dtype: int64"
      ]
     },
     "execution_count": 18,
     "metadata": {},
     "output_type": "execute_result"
    }
   ],
   "source": [
    "# Combien d'articles appartiennent à chaque cluster\n",
    "DF.groupby(['Bow Clus Label'])['Title'].count()\n"
   ]
  },
  {
   "cell_type": "code",
   "execution_count": null,
   "metadata": {
    "colab": {
     "base_uri": "https://localhost:8080/"
    },
    "id": "rGVYo3LG6jgQ",
    "outputId": "83cd9f8e-0715-420e-b7e5-42a81b0b6573"
   },
   "outputs": [
    {
     "data": {
      "text/plain": [
       "Pub_Venue                          Bow Clus Label\n",
       "DAC                                0                   45\n",
       "                                   1                 1532\n",
       "                                   2                  390\n",
       "                                   3                   64\n",
       "DAGM-Symposium                     0                    1\n",
       "                                   1                   14\n",
       "                                   2                    5\n",
       "                                   3                   48\n",
       "DATA BASE                          0                    1\n",
       "                                   1                    3\n",
       "                                   2                  173\n",
       "                                   3                   37\n",
       "Data Min. Knowl. Discov.           0                    3\n",
       "                                   1                   20\n",
       "                                   2                   20\n",
       "                                   3                  138\n",
       "Des. Codes Cryptography            0                  509\n",
       "                                   1                   78\n",
       "                                   2                   49\n",
       "                                   3                   12\n",
       "Discrete Applied Mathematics       0                  938\n",
       "                                   1                  255\n",
       "                                   2                   80\n",
       "                                   3                   62\n",
       "Distributed Computing              0                   23\n",
       "                                   1                   73\n",
       "                                   2                  123\n",
       "                                   3                    5\n",
       "Electr. Notes Theor. Comput. Sci.  0                  123\n",
       "                                   1                  139\n",
       "Name: Pub_Venue, dtype: int64"
      ]
     },
     "execution_count": 20,
     "metadata": {},
     "output_type": "execute_result"
    }
   ],
   "source": [
    "DF.groupby(['Pub_Venue','Bow Clus Label'])['Pub_Venue'].count().head(30)"
   ]
  },
  {
   "cell_type": "markdown",
   "metadata": {
    "id": "kKid0ZfgD_Vv"
   },
   "source": [
    "On peut noter que l'on trouve toujours que chaque revue est présente majoritairement dans un seul cluster, avec quelques erreurs de classification dans d'autres clusters."
   ]
  },
  {
   "cell_type": "code",
   "execution_count": null,
   "metadata": {
    "colab": {
     "base_uri": "https://localhost:8080/"
    },
    "id": "3YMxsHYd6jzk",
    "outputId": "75fe8442-730e-4e10-82e5-0a2dd6072804"
   },
   "outputs": [
    {
     "data": {
      "text/plain": [
       "Bow Clus Label  Pub_Venue                        \n",
       "0               DAC                                    45\n",
       "                DAGM-Symposium                          1\n",
       "                DATA BASE                               1\n",
       "                Data Min. Knowl. Discov.                3\n",
       "                Des. Codes Cryptography               509\n",
       "                Discrete Applied Mathematics          938\n",
       "                Distributed Computing                  23\n",
       "                Electr. Notes Theor. Comput. Sci.     123\n",
       "                GECCO                                  43\n",
       "                GECCO (Companion)                       4\n",
       "                ICC                                    15\n",
       "                ICCAD                                  34\n",
       "                ICCBR                                   2\n",
       "                ICCSA (1)                               9\n",
       "                ICCSA (2)                               1\n",
       "                ICCSA (3)                              11\n",
       "                ICCV                                    2\n",
       "                ICIP                                   14\n",
       "                IJCAI                                  54\n",
       "                Journal of Systems and Software        20\n",
       "                SIGMOD Conference                      35\n",
       "                SIGMOD Record                           9\n",
       "                SMC                                     6\n",
       "                STOC                                   43\n",
       "1               DAC                                  1532\n",
       "                DAGM-Symposium                         14\n",
       "                DATA BASE                               3\n",
       "                Data Min. Knowl. Discov.               20\n",
       "                Des. Codes Cryptography                78\n",
       "                Discrete Applied Mathematics          255\n",
       "                Distributed Computing                  73\n",
       "                Electr. Notes Theor. Comput. Sci.     139\n",
       "                GECCO                                1071\n",
       "                GECCO (Companion)                     174\n",
       "                GECCO Workshops                        39\n",
       "                ICC                                   416\n",
       "                ICCAD                                1464\n",
       "                ICCBR                                   8\n",
       "                ICCE                                    2\n",
       "                ICCSA (1)                              53\n",
       "                ICCSA (2)                              52\n",
       "                ICCSA (3)                              43\n",
       "                ICCV                                    7\n",
       "                ICIP                                  122\n",
       "                IJCAI                                 363\n",
       "                IJCAI (1)                              16\n",
       "                Journal of Systems and Software       137\n",
       "                Knowl. Inf. Syst.                       6\n",
       "                SIGMOD Conference                      86\n",
       "                SIGMOD Record                          19\n",
       "                SMC                                    92\n",
       "                STOC                                   16\n",
       "2               DAC                                   390\n",
       "                DAGM-Symposium                          5\n",
       "                DATA BASE                             173\n",
       "                Data Min. Knowl. Discov.               20\n",
       "                Des. Codes Cryptography                49\n",
       "                Discrete Applied Mathematics           80\n",
       "                Distributed Computing                 123\n",
       "                Electr. Notes Theor. Comput. Sci.    1579\n",
       "Name: Pub_Venue, dtype: int64"
      ]
     },
     "execution_count": 22,
     "metadata": {},
     "output_type": "execute_result"
    }
   ],
   "source": [
    "DF.groupby(['Bow Clus Label','Pub_Venue'])['Pub_Venue'].count().head(60)"
   ]
  },
  {
   "cell_type": "code",
   "execution_count": null,
   "metadata": {
    "colab": {
     "base_uri": "https://localhost:8080/"
    },
    "id": "Do9qLqu46ytQ",
    "outputId": "2a678f9c-bf08-46f0-cd37-efcacbee0081"
   },
   "outputs": [
    {
     "data": {
      "text/plain": [
       "Bow Clus Label  Pub_Venue                        \n",
       "2               Distributed Computing                 123\n",
       "                Electr. Notes Theor. Comput. Sci.    1579\n",
       "                GECCO                                 242\n",
       "                GECCO (Companion)                      62\n",
       "                GECCO Workshops                        22\n",
       "                ICC                                   112\n",
       "                ICCAD                                 140\n",
       "                ICCBR                                  46\n",
       "                ICCE                                   49\n",
       "                ICCSA (1)                              49\n",
       "                ICCSA (2)                              59\n",
       "                ICCSA (3)                              45\n",
       "                ICCV                                    2\n",
       "                ICIP                                   25\n",
       "                IJCAI                                1251\n",
       "                IJCAI (1)                              63\n",
       "                Journal of Systems and Software       610\n",
       "                Knowl. Inf. Syst.                      18\n",
       "                SIGMOD Conference                     177\n",
       "                SIGMOD Record                         139\n",
       "                SMC                                   122\n",
       "                STOC                                    8\n",
       "3               DAC                                    64\n",
       "                DAGM-Symposium                         48\n",
       "                DATA BASE                              37\n",
       "                Data Min. Knowl. Discov.              138\n",
       "                Des. Codes Cryptography                12\n",
       "                Discrete Applied Mathematics           62\n",
       "                Distributed Computing                   5\n",
       "                Electr. Notes Theor. Comput. Sci.      68\n",
       "                GECCO                                 116\n",
       "                GECCO (Companion)                      29\n",
       "                GECCO Workshops                         5\n",
       "                ICC                                    44\n",
       "                ICCAD                                  28\n",
       "                ICCBR                                  15\n",
       "                ICCE                                    4\n",
       "                ICCSA (1)                              41\n",
       "                ICCSA (2)                              33\n",
       "                ICCSA (3)                              45\n",
       "                ICCV                                   65\n",
       "                ICIP                                  651\n",
       "                IJCAI                                 237\n",
       "                IJCAI (1)                               4\n",
       "                Journal of Systems and Software       149\n",
       "                Knowl. Inf. Syst.                      45\n",
       "                SIGMOD Conference                    1329\n",
       "                SIGMOD Record                         343\n",
       "                SMC                                   105\n",
       "                STOC                                    6\n",
       "Name: Pub_Venue, dtype: int64"
      ]
     },
     "execution_count": 31,
     "metadata": {},
     "output_type": "execute_result"
    }
   ],
   "source": [
    "DF.groupby(['Bow Clus Label','Pub_Venue'])['Pub_Venue'].count().tail(50)"
   ]
  },
  {
   "cell_type": "markdown",
   "metadata": {
    "id": "JIcKuHhzAhB6"
   },
   "source": [
    "**Remarque:**\n",
    "\n",
    "On identifie les revues qui ont le plus d'articles dans chaque cluster :\n",
    "\n",
    "cluster 0: la revue majoritaire est Discrete applied Mathematics et Des. Codes Cryptography \n",
    " \n",
    "\n",
    "cluster 1: DAC et ICCAD\n",
    "\n",
    "\n",
    "cluster 2: IJCAI et Electr. Notes Theor. Comput. Sci.   \n",
    "\n",
    "\n",
    "cluster 3 : SIGMOD Conference "
   ]
  },
  {
   "cell_type": "markdown",
   "metadata": {
    "id": "iORa1bxLB5Uw"
   },
   "source": [
    "Nous remarquons que le spherical kmeans donne les mêmes résultats que le kmeans sur la matrice TF-IDF en terme de revues et de thèmes abordés dans chaque cluster. On retrouve des résultats presques identiques, avec l'avantage pour spherical kmeans qui donne une répartition plus équilibrée entre clusters en termes de nombre d'articles par clusters."
   ]
  },
  {
   "cell_type": "code",
   "execution_count": null,
   "metadata": {
    "id": "hSZOVc8BQ7DJ"
   },
   "outputs": [],
   "source": []
  }
 ],
 "metadata": {
  "accelerator": "GPU",
  "colab": {
   "collapsed_sections": [],
   "name": "Projet BI_ Partie Analyse de texte et Clustering 1.ipynb",
   "provenance": [],
   "toc_visible": true
  },
  "kernelspec": {
   "display_name": "Python 3",
   "language": "python",
   "name": "python3"
  },
  "language_info": {
   "codemirror_mode": {
    "name": "ipython",
    "version": 3
   },
   "file_extension": ".py",
   "mimetype": "text/x-python",
   "name": "python",
   "nbconvert_exporter": "python",
   "pygments_lexer": "ipython3",
   "version": "3.8.8"
  }
 },
 "nbformat": 4,
 "nbformat_minor": 1
}
